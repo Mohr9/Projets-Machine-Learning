{
 "cells": [
  {
   "cell_type": "code",
   "execution_count": 1,
   "id": "43f1c705",
   "metadata": {},
   "outputs": [],
   "source": [
    "#importation des packagins : \n",
    "\n",
    "import pandas as pd\n",
    "import numpy as np \n",
    "\n",
    "\n",
    "#importation des packaging de visualisation : \n",
    "import seaborn as sns\n",
    "import matplotlib.pyplot as plt\n",
    "%matplotlib inline\n",
    "\n",
    "#importation des outils statistiques :\n",
    "from scipy.stats import chi2_contingency as khi2\n",
    "\n",
    "#importation des packaging de preprocessing : \n",
    "from sklearn.preprocessing import OrdinalEncoder\n",
    "\n",
    "#importation des packaging de pour la selection du meilleur model :\n",
    "from sklearn.model_selection import KFold, cross_val_score, GridSearchCV\n",
    "\n",
    "#importation des models de Classification : \n",
    "from sklearn.neighbors import KNeighborsClassifier\n",
    "from sklearn.linear_model import LogisticRegression\n",
    "from sklearn.ensemble import RandomForestClassifier\n",
    "\n",
    "#importation des packagins pour de la feature selection : \n",
    "from sklearn.feature_selection import RFE\n",
    "from sklearn.pipeline import Pipeline\n",
    "\n",
    "\n",
    "#importation des metrics : \n",
    "from sklearn.metrics import accuracy_score, make_scorer\n",
    "\n",
    "import warnings\n",
    "warnings.filterwarnings('ignore')"
   ]
  },
  {
   "cell_type": "markdown",
   "id": "922fde57",
   "metadata": {},
   "source": [
    "# - 1. Création du modèle \n",
    "# - 2. Mesure de la performence du modèle \n",
    "# - 3. Amélioration du modèle\n",
    "    - select features, gridsearch, ..\n",
    "# - 4. mesure performence du modèle"
   ]
  },
  {
   "cell_type": "code",
   "execution_count": null,
   "id": "b86686ee",
   "metadata": {},
   "outputs": [],
   "source": [
    "data = pd.read_csv(\"pa\")"
   ]
  },
  {
   "cell_type": "code",
   "execution_count": 2,
   "id": "3e9b0b86",
   "metadata": {},
   "outputs": [],
   "source": [
    "import os\n"
   ]
  },
  {
   "cell_type": "code",
   "execution_count": null,
   "id": "eb0ed131",
   "metadata": {
    "collapsed": true
   },
   "outputs": [],
   "source": []
  }
 ],
 "metadata": {
  "kernelspec": {
   "display_name": "Python 3 (ipykernel)",
   "language": "python",
   "name": "python3"
  },
  "language_info": {
   "codemirror_mode": {
    "name": "ipython",
    "version": 3
   },
   "file_extension": ".py",
   "mimetype": "text/x-python",
   "name": "python",
   "nbconvert_exporter": "python",
   "pygments_lexer": "ipython3",
   "version": "3.8.13"
  }
 },
 "nbformat": 4,
 "nbformat_minor": 5
}
