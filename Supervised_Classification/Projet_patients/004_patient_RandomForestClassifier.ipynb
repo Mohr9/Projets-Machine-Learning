{
 "cells": [
  {
   "cell_type": "code",
   "execution_count": 1,
   "id": "9246bdc4",
   "metadata": {},
   "outputs": [],
   "source": [
    "#importation des packagins : \n",
    "\n",
    "import pandas as pd\n",
    "import numpy as np \n",
    "\n",
    "\n",
    "#importation des packaging de visualisation : \n",
    "import seaborn as sns\n",
    "import matplotlib.pyplot as plt\n",
    "%matplotlib inline\n",
    "\n",
    "#importation des outils statistiques :\n",
    "from scipy.stats import chi2_contingency as khi2\n",
    "\n",
    "#importation des packaging de preprocessing : \n",
    "from sklearn.preprocessing import OrdinalEncoder\n",
    "\n",
    "#importation des packaging de pour la selection du meilleur model :\n",
    "from sklearn.model_selection import KFold, cross_val_score, GridSearchCV\n",
    "\n",
    "#importation des models de Classification : \n",
    "from sklearn.neighbors import KNeighborsClassifier\n",
    "from sklearn.linear_model import LogisticRegression\n",
    "from sklearn.ensemble import RandomForestClassifier\n",
    "\n",
    "#importation des packagins pour de la feature selection : \n",
    "from sklearn.feature_selection import RFE\n",
    "from sklearn.pipeline import Pipeline\n",
    "\n",
    "\n",
    "#importation des metrics : \n",
    "from sklearn.metrics import accuracy_score, make_scorer\n",
    "\n",
    "import warnings\n",
    "warnings.filterwarnings('ignore')"
   ]
  },
  {
   "cell_type": "code",
   "execution_count": 2,
   "id": "e3b87411",
   "metadata": {},
   "outputs": [],
   "source": [
    "data  = pd.read_csv('dataset_nettoyes.csv')"
   ]
  },
  {
   "cell_type": "code",
   "execution_count": 3,
   "id": "f2e0155f",
   "metadata": {},
   "outputs": [],
   "source": [
    "X, y = data.drop('hospital_death',axis = 1), data['hospital_death']\n"
   ]
  },
  {
   "cell_type": "code",
   "execution_count": 4,
   "id": "e39c76e8",
   "metadata": {},
   "outputs": [],
   "source": [
    "best_features = ['gcs_eyes_apache', 'gcs_motor_apache', 'intubated_apache',\n",
    "       'ventilated_apache', 'apache_3j_bodysystem', 'icu_admit_source',\n",
    "       'apache_2_bodysystem']"
   ]
  },
  {
   "cell_type": "code",
   "execution_count": 5,
   "id": "9f9f9a40",
   "metadata": {},
   "outputs": [],
   "source": [
    "X = X[best_features]"
   ]
  },
  {
   "cell_type": "markdown",
   "id": "40bd796e",
   "metadata": {},
   "source": [
    "#  1. Création du modèle "
   ]
  },
  {
   "cell_type": "code",
   "execution_count": 6,
   "id": "aacb9e94",
   "metadata": {},
   "outputs": [],
   "source": [
    "model = RandomForestClassifier()"
   ]
  },
  {
   "cell_type": "code",
   "execution_count": 8,
   "id": "464a5d25",
   "metadata": {},
   "outputs": [],
   "source": [
    "cross = KFold(5,shuffle=True, random_state=42)"
   ]
  },
  {
   "cell_type": "code",
   "execution_count": 10,
   "id": "c060dd2d",
   "metadata": {},
   "outputs": [],
   "source": [
    "accuracy = cross_val_score(estimator=model,X=X,y=y,scoring=make_scorer(accuracy_score) )"
   ]
  },
  {
   "cell_type": "code",
   "execution_count": 11,
   "id": "fc62d705",
   "metadata": {},
   "outputs": [
    {
     "data": {
      "text/plain": [
       "0.9144831975560536"
      ]
     },
     "execution_count": 11,
     "metadata": {},
     "output_type": "execute_result"
    }
   ],
   "source": [
    "accuracy.mean()"
   ]
  },
  {
   "cell_type": "code",
   "execution_count": null,
   "id": "26531a27",
   "metadata": {},
   "outputs": [],
   "source": []
  }
 ],
 "metadata": {
  "kernelspec": {
   "display_name": "Python 3 (ipykernel)",
   "language": "python",
   "name": "python3"
  },
  "language_info": {
   "codemirror_mode": {
    "name": "ipython",
    "version": 3
   },
   "file_extension": ".py",
   "mimetype": "text/x-python",
   "name": "python",
   "nbconvert_exporter": "python",
   "pygments_lexer": "ipython3",
   "version": "3.8.13"
  }
 },
 "nbformat": 4,
 "nbformat_minor": 5
}
