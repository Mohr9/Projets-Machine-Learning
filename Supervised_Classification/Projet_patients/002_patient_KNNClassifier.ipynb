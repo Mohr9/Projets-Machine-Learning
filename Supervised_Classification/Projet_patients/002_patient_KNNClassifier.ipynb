{
 "cells": [
  {
   "cell_type": "code",
   "execution_count": 1,
   "id": "43f1c705",
   "metadata": {},
   "outputs": [],
   "source": [
    "#importation des packagins : \n",
    "\n",
    "import pandas as pd\n",
    "import numpy as np \n",
    "\n",
    "\n",
    "#importation des packaging de visualisation : \n",
    "import seaborn as sns\n",
    "import matplotlib.pyplot as plt\n",
    "%matplotlib inline\n",
    "\n",
    "#importation des outils statistiques :\n",
    "from scipy.stats import chi2_contingency as khi2\n",
    "\n",
    "#importation des packaging de preprocessing : \n",
    "from sklearn.preprocessing import OrdinalEncoder\n",
    "\n",
    "#importation des packaging de pour la selection du meilleur model :\n",
    "from sklearn.model_selection import KFold, cross_val_score, GridSearchCV\n",
    "\n",
    "#importation des models de Classification : \n",
    "from sklearn.neighbors import KNeighborsClassifier\n",
    "from sklearn.linear_model import LogisticRegression\n",
    "from sklearn.ensemble import RandomForestClassifier\n",
    "\n",
    "#importation des packagins pour de la feature selection : \n",
    "from sklearn.feature_selection import RFE\n",
    "from sklearn.pipeline import Pipeline\n",
    "\n",
    "\n",
    "#importation des metrics : \n",
    "from sklearn.metrics import accuracy_score, make_scorer\n",
    "\n",
    "import warnings\n",
    "warnings.filterwarnings('ignore')"
   ]
  },
  {
   "cell_type": "markdown",
   "id": "922fde57",
   "metadata": {},
   "source": [
    "Plan : \n",
    " - 1. Création du modèle \n",
    " - 2. Mesure de la performence du modèle \n",
    " - 3. Amélioration du modèle\n",
    "    - select features, gridsearch, ..\n",
    " - 4. mesure performence du modèle"
   ]
  },
  {
   "cell_type": "code",
   "execution_count": 2,
   "id": "b86686ee",
   "metadata": {},
   "outputs": [],
   "source": [
    "data = pd.read_csv(\"dataset_nettoyes.csv\")"
   ]
  },
  {
   "cell_type": "code",
   "execution_count": 3,
   "id": "6fa7db83",
   "metadata": {},
   "outputs": [],
   "source": [
    "X, y = data.drop('hospital_death',axis = 1), data['hospital_death']\n"
   ]
  },
  {
   "cell_type": "code",
   "execution_count": 4,
   "id": "eb0ed131",
   "metadata": {},
   "outputs": [
    {
     "data": {
      "text/html": [
       "<div>\n",
       "<style scoped>\n",
       "    .dataframe tbody tr th:only-of-type {\n",
       "        vertical-align: middle;\n",
       "    }\n",
       "\n",
       "    .dataframe tbody tr th {\n",
       "        vertical-align: top;\n",
       "    }\n",
       "\n",
       "    .dataframe thead th {\n",
       "        text-align: right;\n",
       "    }\n",
       "</style>\n",
       "<table border=\"1\" class=\"dataframe\">\n",
       "  <thead>\n",
       "    <tr style=\"text-align: right;\">\n",
       "      <th></th>\n",
       "      <th>elective_surgery</th>\n",
       "      <th>ethnicity</th>\n",
       "      <th>icu_admit_source</th>\n",
       "      <th>icu_stay_type</th>\n",
       "      <th>icu_type</th>\n",
       "      <th>apache_post_operative</th>\n",
       "      <th>arf_apache</th>\n",
       "      <th>gcs_eyes_apache</th>\n",
       "      <th>gcs_motor_apache</th>\n",
       "      <th>gcs_unable_apache</th>\n",
       "      <th>...</th>\n",
       "      <th>h1_mbp_noninvasive_min</th>\n",
       "      <th>h1_resprate_max</th>\n",
       "      <th>h1_sysbp_max</th>\n",
       "      <th>h1_sysbp_min</th>\n",
       "      <th>h1_sysbp_noninvasive_max</th>\n",
       "      <th>h1_sysbp_noninvasive_min</th>\n",
       "      <th>d1_glucose_max</th>\n",
       "      <th>d1_potassium_max</th>\n",
       "      <th>apache_4a_hospital_death_prob</th>\n",
       "      <th>apache_4a_icu_death_prob</th>\n",
       "    </tr>\n",
       "  </thead>\n",
       "  <tbody>\n",
       "    <tr>\n",
       "      <th>0</th>\n",
       "      <td>0</td>\n",
       "      <td>2.0</td>\n",
       "      <td>1.0</td>\n",
       "      <td>0.0</td>\n",
       "      <td>2.0</td>\n",
       "      <td>0</td>\n",
       "      <td>0.0</td>\n",
       "      <td>3.0</td>\n",
       "      <td>6.0</td>\n",
       "      <td>0.0</td>\n",
       "      <td>...</td>\n",
       "      <td>0.293586</td>\n",
       "      <td>0.469044</td>\n",
       "      <td>-0.079922</td>\n",
       "      <td>-0.050362</td>\n",
       "      <td>-0.06815</td>\n",
       "      <td>-0.05582</td>\n",
       "      <td>-0.060371</td>\n",
       "      <td>-0.389735</td>\n",
       "      <td>0.069252</td>\n",
       "      <td>0.039076</td>\n",
       "    </tr>\n",
       "  </tbody>\n",
       "</table>\n",
       "<p>1 rows × 58 columns</p>\n",
       "</div>"
      ],
      "text/plain": [
       "   elective_surgery  ethnicity  icu_admit_source  icu_stay_type  icu_type  \\\n",
       "0                 0        2.0               1.0            0.0       2.0   \n",
       "\n",
       "   apache_post_operative  arf_apache  gcs_eyes_apache  gcs_motor_apache  \\\n",
       "0                      0         0.0              3.0               6.0   \n",
       "\n",
       "   gcs_unable_apache  ...  h1_mbp_noninvasive_min  h1_resprate_max  \\\n",
       "0                0.0  ...                0.293586         0.469044   \n",
       "\n",
       "   h1_sysbp_max  h1_sysbp_min  h1_sysbp_noninvasive_max  \\\n",
       "0     -0.079922     -0.050362                  -0.06815   \n",
       "\n",
       "   h1_sysbp_noninvasive_min  d1_glucose_max  d1_potassium_max  \\\n",
       "0                  -0.05582       -0.060371         -0.389735   \n",
       "\n",
       "   apache_4a_hospital_death_prob  apache_4a_icu_death_prob  \n",
       "0                       0.069252                  0.039076  \n",
       "\n",
       "[1 rows x 58 columns]"
      ]
     },
     "execution_count": 4,
     "metadata": {},
     "output_type": "execute_result"
    }
   ],
   "source": [
    "X.head(1)"
   ]
  },
  {
   "cell_type": "code",
   "execution_count": 5,
   "id": "93bacf22",
   "metadata": {},
   "outputs": [
    {
     "data": {
      "text/plain": [
       "0    0\n",
       "1    0\n",
       "2    0\n",
       "3    0\n",
       "4    0\n",
       "Name: hospital_death, dtype: int64"
      ]
     },
     "execution_count": 5,
     "metadata": {},
     "output_type": "execute_result"
    }
   ],
   "source": [
    "y[:5]"
   ]
  },
  {
   "cell_type": "markdown",
   "id": "52dbee2c",
   "metadata": {},
   "source": [
    "#  1. Création du modèle "
   ]
  },
  {
   "cell_type": "code",
   "execution_count": 28,
   "id": "281f5da3",
   "metadata": {},
   "outputs": [],
   "source": [
    "#instanciation du modèle sans regler les hypers parametres\n",
    "knn = KNeighborsClassifier()"
   ]
  },
  {
   "cell_type": "code",
   "execution_count": 7,
   "id": "fd87aaa1",
   "metadata": {},
   "outputs": [],
   "source": [
    "#preparation des splits a faire\n",
    "n_cross = KFold(n_splits=5, shuffle=True, random_state=42)"
   ]
  },
  {
   "cell_type": "code",
   "execution_count": 29,
   "id": "2312c978",
   "metadata": {},
   "outputs": [],
   "source": [
    "#resultat de l'accuracy pour chaque split : \n",
    "accuracy = cross_val_score(estimator=knn, X=X, y=y, scoring = make_scorer(accuracy_score),\n",
    "                cv = n_cross)"
   ]
  },
  {
   "cell_type": "markdown",
   "id": "8e0cff70",
   "metadata": {},
   "source": [
    "#  2. Mesure de la performence du modèle \n"
   ]
  },
  {
   "cell_type": "code",
   "execution_count": 30,
   "id": "9b7971ff",
   "metadata": {},
   "outputs": [
    {
     "data": {
      "text/plain": [
       "0.9185284503362914"
      ]
     },
     "execution_count": 30,
     "metadata": {},
     "output_type": "execute_result"
    }
   ],
   "source": [
    "accuracy_moyenne = accuracy.mean()\n",
    "accuracy_moyenne"
   ]
  },
  {
   "cell_type": "markdown",
   "id": "d8caffdb",
   "metadata": {},
   "source": [
    "#  3. Amélioration du modèle\n",
    "- 1. Réduction du nombre de colonne **manuellement**\n",
    "- 2. Utilisation du GridSearchCV : "
   ]
  },
  {
   "cell_type": "markdown",
   "id": "39abf0e6",
   "metadata": {},
   "source": [
    "## 3.1\n",
    "On remarquera que le code est **long a s'executer**. Par consequent, nous allons **réduire le nombre de colonne pour faciliter l'execution des algorithmes**.\n",
    "\n",
    "- Dans notre notebook 001_Patient_preprocessing, nous avions garder 59 colonnes grâce à l'analyse bi-variée.\n",
    "- Pour des raisons pratiques, on va supprimer un nombre conséquent de colonne afin d'accélerer la création de l'algorithme.\n",
    "- Dans la partie analyse-bivariée de notre notebook de preprocessing, on remarque que pour :\n",
    "    - l'analyse des boxplot, qu'**aucuns boxplot n'est vraiment pertinent** donc nous n'allons garder aucunes variables numériques.\n",
    "    - test chi2, on a récupérer 22 variables, on va prendre uniquement **les 8 variables les plus corrélés**."
   ]
  },
  {
   "cell_type": "code",
   "execution_count": 43,
   "id": "c1b4e335",
   "metadata": {},
   "outputs": [],
   "source": [
    "feats_reduit = ['gcs_eyes_apache','gcs_motor_apache','gcs_verbal_apache','intubated_apache','ventilated_apache',\n",
    " \"apache_3j_bodysystem\",\"icu_admit_source\",\"apache_2_bodysystem\"]"
   ]
  },
  {
   "cell_type": "code",
   "execution_count": 45,
   "id": "43c6189c",
   "metadata": {},
   "outputs": [],
   "source": [
    "X = X[feats_reduit]"
   ]
  },
  {
   "cell_type": "code",
   "execution_count": 49,
   "id": "22820b19",
   "metadata": {},
   "outputs": [],
   "source": [
    "accuracy = cross_val_score(estimator=knn, X=X, y=y, scoring = make_scorer(accuracy_score),\n",
    "                cv = n_cross)"
   ]
  },
  {
   "cell_type": "markdown",
   "id": "f5259098",
   "metadata": {},
   "source": [
    "## 3.2"
   ]
  },
  {
   "cell_type": "code",
   "execution_count": 54,
   "id": "e2c5fc0d",
   "metadata": {},
   "outputs": [],
   "source": [
    "parametre_grid =  {\"n_neighbors\":np.arange(2,20)}"
   ]
  },
  {
   "cell_type": "code",
   "execution_count": 55,
   "id": "eb157403",
   "metadata": {},
   "outputs": [],
   "source": [
    "grid = GridSearchCV(estimator=KNeighborsClassifier(), param_grid=parametre_grid, \n",
    "             scoring= make_scorer(accuracy_score), cv = n_cross)"
   ]
  },
  {
   "cell_type": "markdown",
   "id": "7da86a1b",
   "metadata": {},
   "source": [
    "# Attention : le code ci-dessous est  long a s'executer "
   ]
  },
  {
   "cell_type": "code",
   "execution_count": 56,
   "id": "1ae12536",
   "metadata": {},
   "outputs": [
    {
     "data": {
      "text/plain": [
       "GridSearchCV(cv=KFold(n_splits=5, random_state=42, shuffle=True),\n",
       "             estimator=KNeighborsClassifier(),\n",
       "             param_grid={'n_neighbors': array([ 2,  3,  4,  5,  6,  7,  8,  9, 10, 11, 12, 13, 14, 15, 16, 17, 18,\n",
       "       19])},\n",
       "             scoring=make_scorer(accuracy_score))"
      ]
     },
     "execution_count": 56,
     "metadata": {},
     "output_type": "execute_result"
    }
   ],
   "source": [
    "grid.fit(X,y)"
   ]
  },
  {
   "cell_type": "code",
   "execution_count": 59,
   "id": "6fecaadb",
   "metadata": {},
   "outputs": [],
   "source": [
    "model = grid.best_estimator_"
   ]
  },
  {
   "cell_type": "code",
   "execution_count": 60,
   "id": "2e56ce81",
   "metadata": {},
   "outputs": [],
   "source": [
    "accuracy_grid = cross_val_score(estimator=model, X=X, y=y, scoring = make_scorer(accuracy_score),\n",
    "                cv = n_cross)"
   ]
  },
  {
   "cell_type": "code",
   "execution_count": 61,
   "id": "29668178",
   "metadata": {},
   "outputs": [],
   "source": [
    "accuracy_grid_moy = accuracy_grid.mean()"
   ]
  },
  {
   "cell_type": "code",
   "execution_count": 62,
   "id": "db21b9f1",
   "metadata": {},
   "outputs": [
    {
     "data": {
      "text/plain": [
       "0.9148975673474407"
      ]
     },
     "execution_count": 62,
     "metadata": {},
     "output_type": "execute_result"
    }
   ],
   "source": [
    "accuracy_grid_moy\n",
    "#avec 8 colonnes on a un moins bon score malgré qu'on ai combiné au GridSearch"
   ]
  },
  {
   "cell_type": "markdown",
   "id": "df734494",
   "metadata": {},
   "source": [
    "# - 4. mesure performence du modèle"
   ]
  },
  {
   "cell_type": "code",
   "execution_count": null,
   "id": "e23deb50",
   "metadata": {},
   "outputs": [],
   "source": []
  }
 ],
 "metadata": {
  "kernelspec": {
   "display_name": "Python 3 (ipykernel)",
   "language": "python",
   "name": "python3"
  },
  "language_info": {
   "codemirror_mode": {
    "name": "ipython",
    "version": 3
   },
   "file_extension": ".py",
   "mimetype": "text/x-python",
   "name": "python",
   "nbconvert_exporter": "python",
   "pygments_lexer": "ipython3",
   "version": "3.8.13"
  }
 },
 "nbformat": 4,
 "nbformat_minor": 5
}
