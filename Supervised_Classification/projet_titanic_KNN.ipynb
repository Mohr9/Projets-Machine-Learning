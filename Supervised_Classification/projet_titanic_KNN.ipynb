{
 "cells": [
  {
   "cell_type": "code",
   "execution_count": 1,
   "id": "1e00b420",
   "metadata": {},
   "outputs": [],
   "source": [
    "#import package\n",
    "import pandas as pd\n",
    "import numpy as np\n",
    "\n",
    "#import package visualisation\n",
    "import seaborn as sns\n",
    "import matplotlib.pyplot as plt\n",
    "\n",
    "#import outils statistiques  :\n",
    "from scipy.stats import chi2_contingency\n",
    "\n",
    "#Import des outils de preprocessing : \n",
    "from sklearn.preprocessing import OrdinalEncoder\n",
    "\n",
    "#import package train test set :\n",
    "from sklearn.model_selection import train_test_split, KFold\n",
    "\n",
    "#import package model\n",
    "from sklearn.neighbors import KNeighborsClassifier\n",
    "\n",
    "\n",
    "#import package mesure precision model :\n",
    "from sklearn.metrics import accuracy_score\n",
    "\n",
    "#import pour grid search : \n",
    "\n",
    "from sklearn.model_selection import GridSearchCV\n",
    "from sklearn.metrics import make_scorer #permet de trouver le modele faisant le meilleur score\n",
    "from sklearn.metrics import accuracy_score\n",
    "\n",
    "import warnings\n",
    "warnings.filterwarnings('ignore')"
   ]
  },
  {
   "cell_type": "code",
   "execution_count": 2,
   "id": "e1c92dad",
   "metadata": {},
   "outputs": [],
   "source": [
    "titanic = pd.read_csv('train.csv')\n",
    "df = titanic.copy()"
   ]
  },
  {
   "cell_type": "markdown",
   "id": "9a8900e2",
   "metadata": {},
   "source": [
    "# Demarche a suivre : \n"
   ]
  },
  {
   "cell_type": "markdown",
   "id": "c1ec4357",
   "metadata": {},
   "source": [
    "1) Nettoyage des données\n",
    "\n",
    "2) Analyse univariée et bivariée : inspection, visualisation et analyse des données (étude des  dépendances entre les variables, corrélation, test d'hypothèses...)\n",
    "\n",
    "3) Prédiction de la colonne survived avec le knn_classifier\n",
    "\n",
    "4) Mesure de la qualités de prévisions"
   ]
  },
  {
   "cell_type": "markdown",
   "id": "e847b90d",
   "metadata": {},
   "source": [
    "## Récapitulatifs de l'Analyse du jeu de données :\n",
    "\n",
    "- Modèle supervised ou unsupervised ? \n",
    "    - présence d'une **target** : **Survived**\n",
    "- Caracteristiques des features :\n",
    "    - Nombre : 11\n",
    "        - qualitative : \n",
    "            - nominale : Name, Sex, Ticket, Cabin, Embarked (5)\n",
    "        - quantitative : \n",
    "            - continue : Age, Fare (2)\n",
    "            - discrète : PassengerID, Pclass, SibSP, Parch (4)\n",
    "\n",
    "- Caracteristiques target : \n",
    "    - Survived : quantitative discrète\n",
    "\n"
   ]
  },
  {
   "cell_type": "markdown",
   "id": "7c221f77",
   "metadata": {},
   "source": [
    "## Analyse du jeu de données : "
   ]
  },
  {
   "cell_type": "code",
   "execution_count": 3,
   "id": "41557aa7",
   "metadata": {
    "scrolled": false
   },
   "outputs": [
    {
     "data": {
      "text/html": [
       "<div>\n",
       "<style scoped>\n",
       "    .dataframe tbody tr th:only-of-type {\n",
       "        vertical-align: middle;\n",
       "    }\n",
       "\n",
       "    .dataframe tbody tr th {\n",
       "        vertical-align: top;\n",
       "    }\n",
       "\n",
       "    .dataframe thead th {\n",
       "        text-align: right;\n",
       "    }\n",
       "</style>\n",
       "<table border=\"1\" class=\"dataframe\">\n",
       "  <thead>\n",
       "    <tr style=\"text-align: right;\">\n",
       "      <th></th>\n",
       "      <th>PassengerId</th>\n",
       "      <th>Survived</th>\n",
       "      <th>Pclass</th>\n",
       "      <th>Name</th>\n",
       "      <th>Sex</th>\n",
       "      <th>Age</th>\n",
       "      <th>SibSp</th>\n",
       "      <th>Parch</th>\n",
       "      <th>Ticket</th>\n",
       "      <th>Fare</th>\n",
       "      <th>Cabin</th>\n",
       "      <th>Embarked</th>\n",
       "    </tr>\n",
       "  </thead>\n",
       "  <tbody>\n",
       "    <tr>\n",
       "      <th>0</th>\n",
       "      <td>1</td>\n",
       "      <td>0</td>\n",
       "      <td>3</td>\n",
       "      <td>Braund, Mr. Owen Harris</td>\n",
       "      <td>male</td>\n",
       "      <td>22.0</td>\n",
       "      <td>1</td>\n",
       "      <td>0</td>\n",
       "      <td>A/5 21171</td>\n",
       "      <td>7.2500</td>\n",
       "      <td>NaN</td>\n",
       "      <td>S</td>\n",
       "    </tr>\n",
       "    <tr>\n",
       "      <th>1</th>\n",
       "      <td>2</td>\n",
       "      <td>1</td>\n",
       "      <td>1</td>\n",
       "      <td>Cumings, Mrs. John Bradley (Florence Briggs Th...</td>\n",
       "      <td>female</td>\n",
       "      <td>38.0</td>\n",
       "      <td>1</td>\n",
       "      <td>0</td>\n",
       "      <td>PC 17599</td>\n",
       "      <td>71.2833</td>\n",
       "      <td>C85</td>\n",
       "      <td>C</td>\n",
       "    </tr>\n",
       "    <tr>\n",
       "      <th>2</th>\n",
       "      <td>3</td>\n",
       "      <td>1</td>\n",
       "      <td>3</td>\n",
       "      <td>Heikkinen, Miss. Laina</td>\n",
       "      <td>female</td>\n",
       "      <td>26.0</td>\n",
       "      <td>0</td>\n",
       "      <td>0</td>\n",
       "      <td>STON/O2. 3101282</td>\n",
       "      <td>7.9250</td>\n",
       "      <td>NaN</td>\n",
       "      <td>S</td>\n",
       "    </tr>\n",
       "    <tr>\n",
       "      <th>3</th>\n",
       "      <td>4</td>\n",
       "      <td>1</td>\n",
       "      <td>1</td>\n",
       "      <td>Futrelle, Mrs. Jacques Heath (Lily May Peel)</td>\n",
       "      <td>female</td>\n",
       "      <td>35.0</td>\n",
       "      <td>1</td>\n",
       "      <td>0</td>\n",
       "      <td>113803</td>\n",
       "      <td>53.1000</td>\n",
       "      <td>C123</td>\n",
       "      <td>S</td>\n",
       "    </tr>\n",
       "    <tr>\n",
       "      <th>4</th>\n",
       "      <td>5</td>\n",
       "      <td>0</td>\n",
       "      <td>3</td>\n",
       "      <td>Allen, Mr. William Henry</td>\n",
       "      <td>male</td>\n",
       "      <td>35.0</td>\n",
       "      <td>0</td>\n",
       "      <td>0</td>\n",
       "      <td>373450</td>\n",
       "      <td>8.0500</td>\n",
       "      <td>NaN</td>\n",
       "      <td>S</td>\n",
       "    </tr>\n",
       "  </tbody>\n",
       "</table>\n",
       "</div>"
      ],
      "text/plain": [
       "   PassengerId  Survived  Pclass  \\\n",
       "0            1         0       3   \n",
       "1            2         1       1   \n",
       "2            3         1       3   \n",
       "3            4         1       1   \n",
       "4            5         0       3   \n",
       "\n",
       "                                                Name     Sex   Age  SibSp  \\\n",
       "0                            Braund, Mr. Owen Harris    male  22.0      1   \n",
       "1  Cumings, Mrs. John Bradley (Florence Briggs Th...  female  38.0      1   \n",
       "2                             Heikkinen, Miss. Laina  female  26.0      0   \n",
       "3       Futrelle, Mrs. Jacques Heath (Lily May Peel)  female  35.0      1   \n",
       "4                           Allen, Mr. William Henry    male  35.0      0   \n",
       "\n",
       "   Parch            Ticket     Fare Cabin Embarked  \n",
       "0      0         A/5 21171   7.2500   NaN        S  \n",
       "1      0          PC 17599  71.2833   C85        C  \n",
       "2      0  STON/O2. 3101282   7.9250   NaN        S  \n",
       "3      0            113803  53.1000  C123        S  \n",
       "4      0            373450   8.0500   NaN        S  "
      ]
     },
     "execution_count": 3,
     "metadata": {},
     "output_type": "execute_result"
    }
   ],
   "source": [
    "titanic.head()"
   ]
  },
  {
   "cell_type": "code",
   "execution_count": 4,
   "id": "bfabaefa",
   "metadata": {},
   "outputs": [
    {
     "name": "stdout",
     "output_type": "stream",
     "text": [
      "PassengerId\n",
      "Survived\n",
      "Pclass\n",
      "Name\n",
      "Sex\n",
      "Age\n",
      "SibSp\n",
      "Parch\n",
      "Ticket\n",
      "Fare\n",
      "Cabin\n",
      "Embarked\n"
     ]
    }
   ],
   "source": [
    "for i in titanic:\n",
    "    print(i)"
   ]
  },
  {
   "cell_type": "code",
   "execution_count": 5,
   "id": "c8f30ccf",
   "metadata": {},
   "outputs": [
    {
     "name": "stdout",
     "output_type": "stream",
     "text": [
      "Colonnes pouvant prendre moins de 20 valeurs différentes :\n",
      "\n",
      "SURVIVED :\n",
      " [0 1]\n",
      "PCLASS :\n",
      " [3 1 2]\n",
      "SEX :\n",
      " ['male' 'female']\n",
      "SIBSP :\n",
      " [1 0 3 4 2 5 8]\n",
      "PARCH :\n",
      " [0 1 2 5 3 4 6]\n",
      "EMBARKED :\n",
      " ['S' 'C' 'Q' nan]\n",
      "\n",
      "Colonnes pouvant plus de 20 valeurs différentes : \n",
      "PASSENGERID :\n",
      " [1 2 3 4 5]\n",
      "NAME :\n",
      " ['Braund, Mr. Owen Harris'\n",
      " 'Cumings, Mrs. John Bradley (Florence Briggs Thayer)'\n",
      " 'Heikkinen, Miss. Laina' 'Futrelle, Mrs. Jacques Heath (Lily May Peel)'\n",
      " 'Allen, Mr. William Henry']\n",
      "AGE :\n",
      " [22. 38. 26. 35. nan]\n",
      "TICKET :\n",
      " ['A/5 21171' 'PC 17599' 'STON/O2. 3101282' '113803' '373450']\n",
      "FARE :\n",
      " [ 7.25   71.2833  7.925  53.1     8.05  ]\n",
      "CABIN :\n",
      " [nan 'C85' 'C123' 'E46' 'G6']\n"
     ]
    }
   ],
   "source": [
    "#Analyse du contenu des colonnes\n",
    "print(\"Colonnes pouvant prendre moins de 20 valeurs différentes :\\n\")\n",
    "for i in titanic:\n",
    "    if titanic[i].nunique() <20 :\n",
    "        print(i.upper(), \":\\n\", titanic[i].unique())\n",
    "        \n",
    "print(\"\\nColonnes pouvant plus de 20 valeurs différentes : \")\n",
    "for i in titanic:\n",
    "    if titanic[i].nunique() >=20 :\n",
    "        print(i.upper(), \":\\n\", titanic[i].unique()[:5])"
   ]
  },
  {
   "cell_type": "markdown",
   "id": "d15c2b45",
   "metadata": {},
   "source": [
    "#### Résumé : \n",
    "- Features :\n",
    "    - Nombre : 11\n",
    "    - qualitative :\n",
    "         - nominale : Name, Sex, Ticket, Cabin, Embarked (5)\n",
    "    - quantitative :\n",
    "        - continue : Age, Fare (2)\n",
    "        - discrète : PassengerID, Pclass, SibSP, Parch (4)\n",
    "- Target :\n",
    "    - quantitative discrète : Survived"
   ]
  },
  {
   "cell_type": "markdown",
   "id": "974b7fec",
   "metadata": {},
   "source": [
    "## 1. Nettoyage de données (Imputing)\n",
    "- Données manquantes ? \n",
    "    - Age : 19.87 %\n",
    "    - Embarked : 0.22 %\n",
    "    - Cabin : 77.1 % \n",
    "\n",
    "- Stratégie :\n",
    "    - Données manquantes très élevée donc **suppression** de la colonne **Cabin**\n",
    "    - **Age** : remplacement par la **moyenne**\n",
    "    - **Embarked** : remplacement par **le mode**"
   ]
  },
  {
   "cell_type": "code",
   "execution_count": 6,
   "id": "302364c2",
   "metadata": {},
   "outputs": [
    {
     "name": "stdout",
     "output_type": "stream",
     "text": [
      "Age 19.87 %\n",
      "Cabin 77.1 %\n",
      "Embarked 0.22 %\n"
     ]
    }
   ],
   "source": [
    "for i in df:\n",
    "    if df[i].isnull().sum()>0:\n",
    "        print(f\"{i} {round((df[i].isnull().sum()/df[i].shape[0])*100,2)} %\") "
   ]
  },
  {
   "cell_type": "markdown",
   "id": "4d884141",
   "metadata": {},
   "source": [
    "Suppression de la colonne Cabin"
   ]
  },
  {
   "cell_type": "code",
   "execution_count": 7,
   "id": "8dc8e13d",
   "metadata": {},
   "outputs": [],
   "source": [
    "df.drop(\"Cabin\",axis = 1, inplace = True)"
   ]
  },
  {
   "cell_type": "markdown",
   "id": "689adf71",
   "metadata": {},
   "source": [
    "### Age : \n",
    "\n",
    "- 2 facon d'analyser : \n"
   ]
  },
  {
   "cell_type": "code",
   "execution_count": 8,
   "id": "d0fad6c5",
   "metadata": {},
   "outputs": [
    {
     "data": {
      "image/png": "[encoded data removed]",
      "text/plain": [
       "<Figure size 288x360 with 1 Axes>"
      ]
     },
     "metadata": {
      "needs_background": "light"
     },
     "output_type": "display_data"
    }
   ],
   "source": [
    "#1. avec un boxplot : \n",
    "plt.figure(figsize=(4,5))\n",
    "sns.boxplot(data = df.Age)\n",
    "plt.title(\"Analyse d'age\")\n",
    "plt.ylabel('Age')\n",
    "plt.show()"
   ]
  },
  {
   "cell_type": "code",
   "execution_count": 9,
   "id": "918e4e99",
   "metadata": {},
   "outputs": [
    {
     "data": {
      "image/png": "[encoded data removed]",
      "text/plain": [
       "<Figure size 288x360 with 1 Axes>"
      ]
     },
     "metadata": {
      "needs_background": "light"
     },
     "output_type": "display_data"
    }
   ],
   "source": [
    "#2 avec un distplot : \n",
    "plt.figure(figsize=(4,5))\n",
    "sns.histplot(df.Age)\n",
    "plt.title(\"Analyse d'age\")\n",
    "plt.ylabel('Age')\n",
    "plt.show()"
   ]
  },
  {
   "cell_type": "markdown",
   "id": "2e89e161",
   "metadata": {},
   "source": [
    "**Observations** :\n",
    "- peu d'outliers donc on peut remplacer par **la moyenne**"
   ]
  },
  {
   "cell_type": "code",
   "execution_count": 10,
   "id": "e5464b73",
   "metadata": {},
   "outputs": [],
   "source": [
    "moy_age = df.Age.mean()\n",
    "df.Age = df.Age.fillna(moy_age)"
   ]
  },
  {
   "cell_type": "markdown",
   "id": "65bf47c6",
   "metadata": {},
   "source": [
    "## Embarked : "
   ]
  },
  {
   "cell_type": "code",
   "execution_count": 11,
   "id": "e097f0eb",
   "metadata": {
    "scrolled": true
   },
   "outputs": [
    {
     "data": {
      "image/png": "[encoded data removed]",
      "text/plain": [
       "<Figure size 432x288 with 1 Axes>"
      ]
     },
     "metadata": {
      "needs_background": "light"
     },
     "output_type": "display_data"
    }
   ],
   "source": [
    "sns.countplot(df.Embarked)\n",
    "plt.show()"
   ]
  },
  {
   "cell_type": "markdown",
   "id": "32402e1d",
   "metadata": {},
   "source": [
    "**Embarked** est une variable **qualitative** donc on va remplacer par le **mode** (valeur la plus représentée de l'échantillon donc on va remplacer par **S** :"
   ]
  },
  {
   "cell_type": "code",
   "execution_count": 12,
   "id": "a6102021",
   "metadata": {},
   "outputs": [],
   "source": [
    "mode_embarked = df.Embarked.value_counts().idxmax()\n",
    "df.Embarked = df.Embarked.fillna(mode_embarked)"
   ]
  },
  {
   "cell_type": "code",
   "execution_count": 13,
   "id": "2d634873",
   "metadata": {},
   "outputs": [
    {
     "data": {
      "text/plain": [
       "PassengerId    0\n",
       "Survived       0\n",
       "Pclass         0\n",
       "Name           0\n",
       "Sex            0\n",
       "Age            0\n",
       "SibSp          0\n",
       "Parch          0\n",
       "Ticket         0\n",
       "Fare           0\n",
       "Embarked       0\n",
       "dtype: int64"
      ]
     },
     "execution_count": 13,
     "metadata": {},
     "output_type": "execute_result"
    }
   ],
   "source": [
    "#veribfication \n",
    "df.isnull().sum()"
   ]
  },
  {
   "cell_type": "markdown",
   "id": "ce8a5940",
   "metadata": {},
   "source": [
    "# 2. Analyse bi-variée entre la target et les features\n",
    "\n",
    "- Pour rappel, la target est de type quantitative discrète\n",
    "\n",
    "- Pour les features :\n",
    "    - qualitative :\n",
    "        - nominale : Name, Sex, Ticket, **Cabin : supprimée** , Embarked (**4**)\n",
    "    - quantitative :\n",
    "        - continue : Age, Fare (2)\n",
    "        - discrète : PassengerID, Pclass, SibSP, Parch (4)"
   ]
  },
  {
   "cell_type": "code",
   "execution_count": 14,
   "id": "d1cc0910",
   "metadata": {},
   "outputs": [
    {
     "data": {
      "text/plain": [
       "Index(['PassengerId', 'Survived', 'Pclass', 'Name', 'Sex', 'Age', 'SibSp',\n",
       "       'Parch', 'Ticket', 'Fare', 'Embarked'],\n",
       "      dtype='object')"
      ]
     },
     "execution_count": 14,
     "metadata": {},
     "output_type": "execute_result"
    }
   ],
   "source": [
    "df.columns"
   ]
  },
  {
   "cell_type": "code",
   "execution_count": 15,
   "id": "50da8784",
   "metadata": {},
   "outputs": [],
   "source": [
    "target = df.Survived"
   ]
  },
  {
   "cell_type": "code",
   "execution_count": 16,
   "id": "49ddac6f",
   "metadata": {},
   "outputs": [],
   "source": [
    "df = df.drop(['Survived'], axis = 1)"
   ]
  },
  {
   "cell_type": "code",
   "execution_count": 17,
   "id": "072e3a20",
   "metadata": {},
   "outputs": [],
   "source": [
    "var_cat = ['PassengerId','Pclass','SibSp','Parch','Name','Sex','Ticket','Embarked']"
   ]
  },
  {
   "cell_type": "code",
   "execution_count": 18,
   "id": "96bdd09f",
   "metadata": {},
   "outputs": [],
   "source": [
    "var_cont = ['Age','Fare']"
   ]
  },
  {
   "cell_type": "markdown",
   "id": "13634045",
   "metadata": {},
   "source": [
    "# 2.1 Survived vs variable categorique et discrètes : \n",
    "\n",
    "Entre deux variables categoriques, on utilise le test chi2 : "
   ]
  },
  {
   "cell_type": "code",
   "execution_count": 19,
   "id": "2f49d522",
   "metadata": {},
   "outputs": [
    {
     "data": {
      "text/plain": [
       "{'PassengerId': 0.484248151973633,\n",
       " 'Pclass': 4.549251711298793e-23,\n",
       " 'SibSp': 1.5585810465902147e-06,\n",
       " 'Parch': 9.703526421039997e-05,\n",
       " 'Name': 0.484248151973633,\n",
       " 'Sex': 1.1973570627755645e-58,\n",
       " 'Ticket': 0.01152729601163775,\n",
       " 'Embarked': 2.3008626481449577e-06}"
      ]
     },
     "execution_count": 19,
     "metadata": {},
     "output_type": "execute_result"
    }
   ],
   "source": [
    "chi2_p = {}\n",
    "for i in var_cat:\n",
    "    pval = chi2_contingency(pd.crosstab(df[i], target))[1] \n",
    "    chi2_p[i] = pval\n",
    "sorted(chi2_p.items(), key=lambda x: x[1], reverse=False) #Trie les p_value de facon croissante\n",
    "chi2_p"
   ]
  },
  {
   "cell_type": "markdown",
   "id": "206a56f6",
   "metadata": {},
   "source": [
    "Nous allons récupérer uniquement les variables pour lesquelles pvalues<0.05: "
   ]
  },
  {
   "cell_type": "code",
   "execution_count": 20,
   "id": "625121a0",
   "metadata": {},
   "outputs": [
    {
     "name": "stdout",
     "output_type": "stream",
     "text": [
      " On garde les variables suivante :  ['Pclass', 'SibSp', 'Parch', 'Sex', 'Embarked']\n",
      " On supprime les variables suivante :  ['PassengerId', 'Name', 'Ticket']\n"
     ]
    }
   ],
   "source": [
    "var_cat_final = []\n",
    "var_cat_supprime = []\n",
    "\n",
    "for i in chi2_p:\n",
    "    if chi2_p[i]<0.005:\n",
    "        var_cat_final.append(i)\n",
    "    else:\n",
    "        var_cat_supprime.append(i)\n",
    "print(\" On garde les variables suivante : \", var_cat_final)\n",
    "print(\" On supprime les variables suivante : \", var_cat_supprime)\n"
   ]
  },
  {
   "cell_type": "code",
   "execution_count": 21,
   "id": "eae31b70",
   "metadata": {},
   "outputs": [],
   "source": [
    "df = df.drop(var_cat_supprime, axis = 1)"
   ]
  },
  {
   "cell_type": "markdown",
   "id": "c9705312",
   "metadata": {},
   "source": [
    "# 2.1 Survived vs variable continues :\n",
    "- Nous sommes dans le cas ou nous avons une variables discrètes vs variables continues : **boxplot**"
   ]
  },
  {
   "cell_type": "code",
   "execution_count": 22,
   "id": "79882d39",
   "metadata": {},
   "outputs": [
    {
     "data": {
      "image/png": "[encoded data removed]",
      "text/plain": [
       "<Figure size 432x432 with 2 Axes>"
      ]
     },
     "metadata": {
      "needs_background": "light"
     },
     "output_type": "display_data"
    }
   ],
   "source": [
    "fig, axe = plt.subplots(1,2,figsize=(6,6))\n",
    "for i in range(len(var_cont)):\n",
    "    ax = sns.boxplot(y = var_cont[i], x = target,  ax=  axe[i],\n",
    "                 data=df)\n",
    "    ax.set_title(f'Analyse de {var_cont[i].upper()}')\n",
    "plt.show()"
   ]
  },
  {
   "cell_type": "markdown",
   "id": "1483fd2a",
   "metadata": {},
   "source": [
    "**Observations** : \n",
    "- La mediane ne varie pas lorsqu'on regarde la survie en fonction de l'âge\n",
    "- La mediane varie lorsqu'on regarde la survie en fonction de Fare \n",
    "\n",
    "**Interprétation** :\n",
    "* L'âge n'a pas d'influence sur la survie tandis que Fare en a. \n",
    "\n",
    "**Conclusion** :\n",
    "\n",
    "- Age et Survived sont des **variables indépendantes**\n",
    "    - On rejette H0(dépendance des variables) et on accepte H1.\n",
    "\n",
    "- Fare et Survived sont des **variables dépendantes**\n",
    "    - On rejette H1(indépendances des variables) et on accepte H0\n"
   ]
  },
  {
   "cell_type": "code",
   "execution_count": 23,
   "id": "54220086",
   "metadata": {},
   "outputs": [],
   "source": [
    "#on peut supprimer la colonne age de df :\n",
    "df.drop('Age', axis = 1, inplace = True)"
   ]
  },
  {
   "cell_type": "code",
   "execution_count": 24,
   "id": "2f15d08a",
   "metadata": {
    "scrolled": true
   },
   "outputs": [
    {
     "data": {
      "text/html": [
       "<div>\n",
       "<style scoped>\n",
       "    .dataframe tbody tr th:only-of-type {\n",
       "        vertical-align: middle;\n",
       "    }\n",
       "\n",
       "    .dataframe tbody tr th {\n",
       "        vertical-align: top;\n",
       "    }\n",
       "\n",
       "    .dataframe thead th {\n",
       "        text-align: right;\n",
       "    }\n",
       "</style>\n",
       "<table border=\"1\" class=\"dataframe\">\n",
       "  <thead>\n",
       "    <tr style=\"text-align: right;\">\n",
       "      <th></th>\n",
       "      <th>Pclass</th>\n",
       "      <th>Sex</th>\n",
       "      <th>SibSp</th>\n",
       "      <th>Parch</th>\n",
       "      <th>Fare</th>\n",
       "      <th>Embarked</th>\n",
       "    </tr>\n",
       "  </thead>\n",
       "  <tbody>\n",
       "    <tr>\n",
       "      <th>0</th>\n",
       "      <td>3</td>\n",
       "      <td>male</td>\n",
       "      <td>1</td>\n",
       "      <td>0</td>\n",
       "      <td>7.2500</td>\n",
       "      <td>S</td>\n",
       "    </tr>\n",
       "    <tr>\n",
       "      <th>1</th>\n",
       "      <td>1</td>\n",
       "      <td>female</td>\n",
       "      <td>1</td>\n",
       "      <td>0</td>\n",
       "      <td>71.2833</td>\n",
       "      <td>C</td>\n",
       "    </tr>\n",
       "    <tr>\n",
       "      <th>2</th>\n",
       "      <td>3</td>\n",
       "      <td>female</td>\n",
       "      <td>0</td>\n",
       "      <td>0</td>\n",
       "      <td>7.9250</td>\n",
       "      <td>S</td>\n",
       "    </tr>\n",
       "    <tr>\n",
       "      <th>3</th>\n",
       "      <td>1</td>\n",
       "      <td>female</td>\n",
       "      <td>1</td>\n",
       "      <td>0</td>\n",
       "      <td>53.1000</td>\n",
       "      <td>S</td>\n",
       "    </tr>\n",
       "    <tr>\n",
       "      <th>4</th>\n",
       "      <td>3</td>\n",
       "      <td>male</td>\n",
       "      <td>0</td>\n",
       "      <td>0</td>\n",
       "      <td>8.0500</td>\n",
       "      <td>S</td>\n",
       "    </tr>\n",
       "  </tbody>\n",
       "</table>\n",
       "</div>"
      ],
      "text/plain": [
       "   Pclass     Sex  SibSp  Parch     Fare Embarked\n",
       "0       3    male      1      0   7.2500        S\n",
       "1       1  female      1      0  71.2833        C\n",
       "2       3  female      0      0   7.9250        S\n",
       "3       1  female      1      0  53.1000        S\n",
       "4       3    male      0      0   8.0500        S"
      ]
     },
     "execution_count": 24,
     "metadata": {},
     "output_type": "execute_result"
    }
   ],
   "source": [
    "#On garde les colonnes suivantes :\n",
    "df.head()"
   ]
  },
  {
   "cell_type": "markdown",
   "id": "07a5576e",
   "metadata": {},
   "source": [
    "# 3) Prédiction de la colonne survived avec le knn_classifier\n",
    "\n",
    "Afin de pouvoir utiliser notre modèle dans les meilleures conditions possibles, il va falloir préparer notre jeu de donnée :\n",
    "\n",
    "## 3 Préparation du jeu de données : \n",
    "On va procéder par étapes dans l'ordre suivant : \n",
    "- Pour les variables qualitatives/discrètes : **Encodage**\n",
    "- Séparation du jeu de donnée en deux : train et test set\n",
    "- Pour les variables continues : **Normalisation** ( rappel : toutes les données sont normalisées avec la moyenne et l'ecart type du **train**\n"
   ]
  },
  {
   "cell_type": "markdown",
   "id": "c6f93dca",
   "metadata": {},
   "source": [
    "## 3.1 Encodage des variables :"
   ]
  },
  {
   "cell_type": "code",
   "execution_count": 25,
   "id": "3b7f14d6",
   "metadata": {},
   "outputs": [],
   "source": [
    "#Nous avons vu au travers de df qu'il y a deux variables a encoder : Sex et Embarked\n",
    "enc = OrdinalEncoder()\n",
    "df[['Sex','Embarked']] = enc.fit_transform(df[['Sex','Embarked']])"
   ]
  },
  {
   "cell_type": "code",
   "execution_count": 26,
   "id": "af012847",
   "metadata": {},
   "outputs": [
    {
     "data": {
      "text/html": [
       "<div>\n",
       "<style scoped>\n",
       "    .dataframe tbody tr th:only-of-type {\n",
       "        vertical-align: middle;\n",
       "    }\n",
       "\n",
       "    .dataframe tbody tr th {\n",
       "        vertical-align: top;\n",
       "    }\n",
       "\n",
       "    .dataframe thead th {\n",
       "        text-align: right;\n",
       "    }\n",
       "</style>\n",
       "<table border=\"1\" class=\"dataframe\">\n",
       "  <thead>\n",
       "    <tr style=\"text-align: right;\">\n",
       "      <th></th>\n",
       "      <th>Pclass</th>\n",
       "      <th>Sex</th>\n",
       "      <th>SibSp</th>\n",
       "      <th>Parch</th>\n",
       "      <th>Fare</th>\n",
       "      <th>Embarked</th>\n",
       "    </tr>\n",
       "  </thead>\n",
       "  <tbody>\n",
       "    <tr>\n",
       "      <th>0</th>\n",
       "      <td>3</td>\n",
       "      <td>1.0</td>\n",
       "      <td>1</td>\n",
       "      <td>0</td>\n",
       "      <td>7.25</td>\n",
       "      <td>2.0</td>\n",
       "    </tr>\n",
       "  </tbody>\n",
       "</table>\n",
       "</div>"
      ],
      "text/plain": [
       "   Pclass  Sex  SibSp  Parch  Fare  Embarked\n",
       "0       3  1.0      1      0  7.25       2.0"
      ]
     },
     "execution_count": 26,
     "metadata": {},
     "output_type": "execute_result"
    }
   ],
   "source": [
    "df.head(1)"
   ]
  },
  {
   "cell_type": "markdown",
   "id": "6bf33e00",
   "metadata": {},
   "source": [
    "## 3.2 Création du train et test set :"
   ]
  },
  {
   "cell_type": "markdown",
   "id": "66322346",
   "metadata": {},
   "source": [
    "**Remarque :**\n",
    "- si on utilise la cross_validation, on ne fait pas de train_test_split, donc on normalisera pas les données en fonction du train ,mais on normalise **tout** le dataframe"
   ]
  },
  {
   "cell_type": "code",
   "execution_count": 27,
   "id": "ec713805",
   "metadata": {},
   "outputs": [],
   "source": [
    "X_train, X_test, y_train, y_test  = train_test_split(df, target, test_size=0.2, random_state=42)"
   ]
  },
  {
   "cell_type": "markdown",
   "id": "9c96a09f",
   "metadata": {},
   "source": [
    "## 3.3 Normalisation des données "
   ]
  },
  {
   "cell_type": "code",
   "execution_count": 28,
   "id": "9d01e767",
   "metadata": {},
   "outputs": [],
   "source": [
    "#normalisation du train : \n",
    "normalized_train = (X_train-X_train.mean())/X_train.std()\n",
    "#normalisation du test : \n",
    "normalized_test = (X_test-X_train.mean())/X_train.std()"
   ]
  },
  {
   "cell_type": "code",
   "execution_count": 29,
   "id": "4854d2a9",
   "metadata": {},
   "outputs": [],
   "source": [
    "#On remet les valeurs qui n'auraient pas dû etre normalisée (ici seul Fare doit etre normalisé ) : \n",
    "#Dans le train :\n",
    "normalized_train[var_cat_final] = df[var_cat_final]\n",
    "#Dans le test :\n",
    "normalized_test[var_cat_final] = df[var_cat_final]"
   ]
  },
  {
   "cell_type": "code",
   "execution_count": 30,
   "id": "db55158b",
   "metadata": {},
   "outputs": [
    {
     "data": {
      "text/html": [
       "<div>\n",
       "<style scoped>\n",
       "    .dataframe tbody tr th:only-of-type {\n",
       "        vertical-align: middle;\n",
       "    }\n",
       "\n",
       "    .dataframe tbody tr th {\n",
       "        vertical-align: top;\n",
       "    }\n",
       "\n",
       "    .dataframe thead th {\n",
       "        text-align: right;\n",
       "    }\n",
       "</style>\n",
       "<table border=\"1\" class=\"dataframe\">\n",
       "  <thead>\n",
       "    <tr style=\"text-align: right;\">\n",
       "      <th></th>\n",
       "      <th>Pclass</th>\n",
       "      <th>Sex</th>\n",
       "      <th>SibSp</th>\n",
       "      <th>Parch</th>\n",
       "      <th>Fare</th>\n",
       "      <th>Embarked</th>\n",
       "    </tr>\n",
       "  </thead>\n",
       "  <tbody>\n",
       "    <tr>\n",
       "      <th>709</th>\n",
       "      <td>3</td>\n",
       "      <td>1.0</td>\n",
       "      <td>1</td>\n",
       "      <td>1</td>\n",
       "      <td>-0.333666</td>\n",
       "      <td>0.0</td>\n",
       "    </tr>\n",
       "    <tr>\n",
       "      <th>439</th>\n",
       "      <td>2</td>\n",
       "      <td>1.0</td>\n",
       "      <td>0</td>\n",
       "      <td>0</td>\n",
       "      <td>-0.424985</td>\n",
       "      <td>2.0</td>\n",
       "    </tr>\n",
       "    <tr>\n",
       "      <th>840</th>\n",
       "      <td>3</td>\n",
       "      <td>1.0</td>\n",
       "      <td>0</td>\n",
       "      <td>0</td>\n",
       "      <td>-0.474533</td>\n",
       "      <td>2.0</td>\n",
       "    </tr>\n",
       "    <tr>\n",
       "      <th>720</th>\n",
       "      <td>2</td>\n",
       "      <td>0.0</td>\n",
       "      <td>0</td>\n",
       "      <td>1</td>\n",
       "      <td>0.007961</td>\n",
       "      <td>2.0</td>\n",
       "    </tr>\n",
       "    <tr>\n",
       "      <th>39</th>\n",
       "      <td>3</td>\n",
       "      <td>0.0</td>\n",
       "      <td>1</td>\n",
       "      <td>0</td>\n",
       "      <td>-0.410713</td>\n",
       "      <td>0.0</td>\n",
       "    </tr>\n",
       "    <tr>\n",
       "      <th>...</th>\n",
       "      <td>...</td>\n",
       "      <td>...</td>\n",
       "      <td>...</td>\n",
       "      <td>...</td>\n",
       "      <td>...</td>\n",
       "      <td>...</td>\n",
       "    </tr>\n",
       "    <tr>\n",
       "      <th>433</th>\n",
       "      <td>3</td>\n",
       "      <td>1.0</td>\n",
       "      <td>0</td>\n",
       "      <td>0</td>\n",
       "      <td>-0.489927</td>\n",
       "      <td>2.0</td>\n",
       "    </tr>\n",
       "    <tr>\n",
       "      <th>773</th>\n",
       "      <td>3</td>\n",
       "      <td>1.0</td>\n",
       "      <td>0</td>\n",
       "      <td>0</td>\n",
       "      <td>-0.488003</td>\n",
       "      <td>0.0</td>\n",
       "    </tr>\n",
       "    <tr>\n",
       "      <th>25</th>\n",
       "      <td>3</td>\n",
       "      <td>0.0</td>\n",
       "      <td>1</td>\n",
       "      <td>5</td>\n",
       "      <td>-0.023067</td>\n",
       "      <td>2.0</td>\n",
       "    </tr>\n",
       "    <tr>\n",
       "      <th>84</th>\n",
       "      <td>2</td>\n",
       "      <td>0.0</td>\n",
       "      <td>0</td>\n",
       "      <td>0</td>\n",
       "      <td>-0.424985</td>\n",
       "      <td>2.0</td>\n",
       "    </tr>\n",
       "    <tr>\n",
       "      <th>10</th>\n",
       "      <td>3</td>\n",
       "      <td>0.0</td>\n",
       "      <td>1</td>\n",
       "      <td>1</td>\n",
       "      <td>-0.305684</td>\n",
       "      <td>2.0</td>\n",
       "    </tr>\n",
       "  </tbody>\n",
       "</table>\n",
       "<p>179 rows × 6 columns</p>\n",
       "</div>"
      ],
      "text/plain": [
       "     Pclass  Sex  SibSp  Parch      Fare  Embarked\n",
       "709       3  1.0      1      1 -0.333666       0.0\n",
       "439       2  1.0      0      0 -0.424985       2.0\n",
       "840       3  1.0      0      0 -0.474533       2.0\n",
       "720       2  0.0      0      1  0.007961       2.0\n",
       "39        3  0.0      1      0 -0.410713       0.0\n",
       "..      ...  ...    ...    ...       ...       ...\n",
       "433       3  1.0      0      0 -0.489927       2.0\n",
       "773       3  1.0      0      0 -0.488003       0.0\n",
       "25        3  0.0      1      5 -0.023067       2.0\n",
       "84        2  0.0      0      0 -0.424985       2.0\n",
       "10        3  0.0      1      1 -0.305684       2.0\n",
       "\n",
       "[179 rows x 6 columns]"
      ]
     },
     "execution_count": 30,
     "metadata": {},
     "output_type": "execute_result"
    }
   ],
   "source": [
    "normalized_test"
   ]
  },
  {
   "cell_type": "markdown",
   "id": "a9dbc920",
   "metadata": {},
   "source": [
    "Maintenant nous pouvons utiliser les données pour notre modèle : "
   ]
  },
  {
   "cell_type": "markdown",
   "id": "8c7f4c97",
   "metadata": {},
   "source": [
    "# Prédiction de la colonne survived avec le knn_classifier :\n"
   ]
  },
  {
   "cell_type": "code",
   "execution_count": 58,
   "id": "b4798518",
   "metadata": {},
   "outputs": [],
   "source": [
    "knn = KNeighborsClassifier()\n",
    "knn.fit(normalized_train, y_train)\n",
    "y_pred = knn.predict(normalized_test)"
   ]
  },
  {
   "cell_type": "markdown",
   "id": "aa16f0b1",
   "metadata": {},
   "source": [
    "# 4) Mesure de la qualités de prévisions"
   ]
  },
  {
   "cell_type": "code",
   "execution_count": 66,
   "id": "d73127ac",
   "metadata": {
    "scrolled": true
   },
   "outputs": [
    {
     "name": "stdout",
     "output_type": "stream",
     "text": [
      "Precision du modèle : 80.4 %\n"
     ]
    }
   ],
   "source": [
    "precision = accuracy_score(y_test,y_pred)\n",
    "print(f\"Precision du modèle : {round(precision*100,1)} %\")"
   ]
  },
  {
   "cell_type": "markdown",
   "id": "1b806288",
   "metadata": {},
   "source": [
    "Nous pouvons tenter d'améliorer notre modèle en réglant les hypers parametres, utilisons le GridSearchCV afin de trouver les hyperparametres qui maximises nos chances d'obtenir le meilleur score : "
   ]
  },
  {
   "cell_type": "code",
   "execution_count": 60,
   "id": "bb88663b",
   "metadata": {},
   "outputs": [
    {
     "data": {
      "text/plain": [
       "GridSearchCV(estimator=KNeighborsClassifier(),\n",
       "             param_grid={'metric': ['euclidean', 'manhattan', 'minkowski'],\n",
       "                         'n_neighbors': array([ 2,  3,  4,  5,  6,  7,  8,  9, 10, 11, 12, 13, 14, 15, 16, 17, 18,\n",
       "       19, 20, 21, 22, 23, 24, 25, 26, 27, 28, 29, 30, 31, 32, 33, 34, 35,\n",
       "       36, 37, 38, 39, 40, 41, 42, 43, 44, 45, 46, 47, 48, 49])},\n",
       "             scoring=make_scorer(accuracy_score))"
      ]
     },
     "execution_count": 60,
     "metadata": {},
     "output_type": "execute_result"
    }
   ],
   "source": [
    "#Dictionnaire des hypers-parametres \n",
    "param_grid={'n_neighbors': np.arange(2,50), \n",
    "            'metric':['euclidean','manhattan', 'minkowski']}\n",
    "\n",
    "#instanciation du modèle : \n",
    "grid=GridSearchCV(estimator=KNeighborsClassifier(),\n",
    "                  param_grid=param_grid,\n",
    "                  scoring=make_scorer(accuracy_score))\n",
    "#entrainement du modèle \n",
    "grid.fit(X = normalized_train,y = y_train)"
   ]
  },
  {
   "cell_type": "code",
   "execution_count": 61,
   "id": "b4c72d32",
   "metadata": {},
   "outputs": [
    {
     "name": "stdout",
     "output_type": "stream",
     "text": [
      "Best estimator : KNeighborsClassifier(metric='manhattan', n_neighbors=12)\n"
     ]
    }
   ],
   "source": [
    "print(\"Best estimator :\", grid.best_estimator_)\n",
    "\n",
    "model = grid.best_estimator_ # On recupere le modèle ayant les meilleurs caracteristiques (grace au make_scorer qui donne\n",
    "#les meilleurs scoring pour chaque hyper parametres testés)\n",
    "predictions = model.predict(X =  normalized_test)"
   ]
  },
  {
   "cell_type": "code",
   "execution_count": 67,
   "id": "3ec51286",
   "metadata": {},
   "outputs": [
    {
     "name": "stdout",
     "output_type": "stream",
     "text": [
      "accuracy :  79.9 %\n"
     ]
    }
   ],
   "source": [
    "accuracy = accuracy_score(y_test, predictions)\n",
    "\n",
    "print(\"accuracy : \", round((accuracy)*100,1), \"%\")"
   ]
  },
  {
   "cell_type": "code",
   "execution_count": 36,
   "id": "a08da619",
   "metadata": {
    "scrolled": false
   },
   "outputs": [
    {
     "data": {
      "image/png": "[encoded data removed]",
      "text/plain": [
       "<Figure size 432x288 with 1 Axes>"
      ]
     },
     "metadata": {
      "needs_background": "light"
     },
     "output_type": "display_data"
    }
   ],
   "source": [
    "#autre methode pour trouver l'hyper parametre n_neigbors optimale :\n",
    "neighbors = range(1,50)\n",
    "score = []\n",
    "for i in neighbors:\n",
    "    model = KNeighborsClassifier(n_neighbors=i)\n",
    "    model.fit(X = X_train,y = y_train)\n",
    "    y_pred = model.predict(X_test)\n",
    "    mse = accuracy_score(y_test,y_pred)\n",
    "    score.append(mse)\n",
    "ax = sns.lineplot(x = neighbors, y = score)   \n",
    "ax.set_title(\" Recherche du parametre n_neighbors optimale \")\n",
    "ax.set_xlabel('n_n\n",
    "              eighbors')\n",
    "ax.set_ylabel('accuracy')\n",
    "plt.show()"
   ]
  },
  {
   "cell_type": "markdown",
   "id": "0ee19f29",
   "metadata": {},
   "source": [
    "# Prédictions sur le fichier test.csv "
   ]
  },
  {
   "cell_type": "code",
   "execution_count": 37,
   "id": "54aab785",
   "metadata": {},
   "outputs": [],
   "source": [
    "titanic_test = pd.read_csv('test.csv')"
   ]
  },
  {
   "cell_type": "code",
   "execution_count": 38,
   "id": "41db6a77",
   "metadata": {},
   "outputs": [],
   "source": [
    "X_test_final = titanic_test[X_train.columns] #recuperation des memes colonnes que pour le fichier train"
   ]
  },
  {
   "cell_type": "markdown",
   "id": "de738e16",
   "metadata": {},
   "source": [
    "## Preprocessing : \n"
   ]
  },
  {
   "cell_type": "code",
   "execution_count": 39,
   "id": "f3355801",
   "metadata": {},
   "outputs": [
    {
     "data": {
      "text/plain": [
       "Pclass      0\n",
       "Sex         0\n",
       "SibSp       0\n",
       "Parch       0\n",
       "Fare        1\n",
       "Embarked    0\n",
       "dtype: int64"
      ]
     },
     "execution_count": 39,
     "metadata": {},
     "output_type": "execute_result"
    }
   ],
   "source": [
    "X_test_final.isnull().sum()"
   ]
  },
  {
   "cell_type": "code",
   "execution_count": 40,
   "id": "a5fb0331",
   "metadata": {},
   "outputs": [
    {
     "data": {
      "text/plain": [
       "dtype('float64')"
      ]
     },
     "execution_count": 40,
     "metadata": {},
     "output_type": "execute_result"
    }
   ],
   "source": [
    "X_test_final.Fare.dtypes"
   ]
  },
  {
   "cell_type": "code",
   "execution_count": 41,
   "id": "e50d682c",
   "metadata": {
    "scrolled": true
   },
   "outputs": [
    {
     "data": {
      "image/png": "[encoded data removed]",
      "text/plain": [
       "<Figure size 432x288 with 1 Axes>"
      ]
     },
     "metadata": {
      "needs_background": "light"
     },
     "output_type": "display_data"
    }
   ],
   "source": [
    "sns.boxplot(data = X_test_final.Fare)\n",
    "plt.show()\n"
   ]
  },
  {
   "cell_type": "markdown",
   "id": "78d78354",
   "metadata": {},
   "source": [
    "**Observations :**: \n",
    "presence de beaucoup d'outliers donc on remplace par la **mediane**"
   ]
  },
  {
   "cell_type": "code",
   "execution_count": 42,
   "id": "66f84f90",
   "metadata": {},
   "outputs": [],
   "source": [
    "#1. imputing\n",
    "X_test_final.Fare.fillna(X_test_final.Fare.median(), inplace=True)"
   ]
  },
  {
   "cell_type": "code",
   "execution_count": 43,
   "id": "2894a114",
   "metadata": {},
   "outputs": [
    {
     "data": {
      "text/html": [
       "<div>\n",
       "<style scoped>\n",
       "    .dataframe tbody tr th:only-of-type {\n",
       "        vertical-align: middle;\n",
       "    }\n",
       "\n",
       "    .dataframe tbody tr th {\n",
       "        vertical-align: top;\n",
       "    }\n",
       "\n",
       "    .dataframe thead th {\n",
       "        text-align: right;\n",
       "    }\n",
       "</style>\n",
       "<table border=\"1\" class=\"dataframe\">\n",
       "  <thead>\n",
       "    <tr style=\"text-align: right;\">\n",
       "      <th></th>\n",
       "      <th>Pclass</th>\n",
       "      <th>Sex</th>\n",
       "      <th>SibSp</th>\n",
       "      <th>Parch</th>\n",
       "      <th>Fare</th>\n",
       "      <th>Embarked</th>\n",
       "    </tr>\n",
       "  </thead>\n",
       "  <tbody>\n",
       "    <tr>\n",
       "      <th>0</th>\n",
       "      <td>3</td>\n",
       "      <td>male</td>\n",
       "      <td>0</td>\n",
       "      <td>0</td>\n",
       "      <td>7.8292</td>\n",
       "      <td>Q</td>\n",
       "    </tr>\n",
       "    <tr>\n",
       "      <th>1</th>\n",
       "      <td>3</td>\n",
       "      <td>female</td>\n",
       "      <td>1</td>\n",
       "      <td>0</td>\n",
       "      <td>7.0000</td>\n",
       "      <td>S</td>\n",
       "    </tr>\n",
       "  </tbody>\n",
       "</table>\n",
       "</div>"
      ],
      "text/plain": [
       "   Pclass     Sex  SibSp  Parch    Fare Embarked\n",
       "0       3    male      0      0  7.8292        Q\n",
       "1       3  female      1      0  7.0000        S"
      ]
     },
     "execution_count": 43,
     "metadata": {},
     "output_type": "execute_result"
    }
   ],
   "source": [
    "X_test_final.head(2)"
   ]
  },
  {
   "cell_type": "code",
   "execution_count": 44,
   "id": "a92e850e",
   "metadata": {},
   "outputs": [],
   "source": [
    "#2. Encodage \n",
    "X_test_final[['Sex','Embarked']] = enc.fit_transform(X_test_final[['Sex','Embarked']])"
   ]
  },
  {
   "cell_type": "code",
   "execution_count": 45,
   "id": "51e5ff96",
   "metadata": {},
   "outputs": [
    {
     "data": {
      "text/html": [
       "<div>\n",
       "<style scoped>\n",
       "    .dataframe tbody tr th:only-of-type {\n",
       "        vertical-align: middle;\n",
       "    }\n",
       "\n",
       "    .dataframe tbody tr th {\n",
       "        vertical-align: top;\n",
       "    }\n",
       "\n",
       "    .dataframe thead th {\n",
       "        text-align: right;\n",
       "    }\n",
       "</style>\n",
       "<table border=\"1\" class=\"dataframe\">\n",
       "  <thead>\n",
       "    <tr style=\"text-align: right;\">\n",
       "      <th></th>\n",
       "      <th>Pclass</th>\n",
       "      <th>Sex</th>\n",
       "      <th>SibSp</th>\n",
       "      <th>Parch</th>\n",
       "      <th>Fare</th>\n",
       "      <th>Embarked</th>\n",
       "    </tr>\n",
       "  </thead>\n",
       "  <tbody>\n",
       "    <tr>\n",
       "      <th>0</th>\n",
       "      <td>3</td>\n",
       "      <td>1.0</td>\n",
       "      <td>0</td>\n",
       "      <td>0</td>\n",
       "      <td>7.8292</td>\n",
       "      <td>1.0</td>\n",
       "    </tr>\n",
       "    <tr>\n",
       "      <th>1</th>\n",
       "      <td>3</td>\n",
       "      <td>0.0</td>\n",
       "      <td>1</td>\n",
       "      <td>0</td>\n",
       "      <td>7.0000</td>\n",
       "      <td>2.0</td>\n",
       "    </tr>\n",
       "  </tbody>\n",
       "</table>\n",
       "</div>"
      ],
      "text/plain": [
       "   Pclass  Sex  SibSp  Parch    Fare  Embarked\n",
       "0       3  1.0      0      0  7.8292       1.0\n",
       "1       3  0.0      1      0  7.0000       2.0"
      ]
     },
     "execution_count": 45,
     "metadata": {},
     "output_type": "execute_result"
    }
   ],
   "source": [
    "X_test_final.head(2)"
   ]
  },
  {
   "cell_type": "code",
   "execution_count": 46,
   "id": "622e4922",
   "metadata": {},
   "outputs": [],
   "source": [
    "#3. Normalisation : \n",
    "normalized_test_final = (X_test_final-X_train.mean())/X_train.std()"
   ]
  },
  {
   "cell_type": "code",
   "execution_count": 47,
   "id": "3cfb8e17",
   "metadata": {},
   "outputs": [
    {
     "data": {
      "text/html": [
       "<div>\n",
       "<style scoped>\n",
       "    .dataframe tbody tr th:only-of-type {\n",
       "        vertical-align: middle;\n",
       "    }\n",
       "\n",
       "    .dataframe tbody tr th {\n",
       "        vertical-align: top;\n",
       "    }\n",
       "\n",
       "    .dataframe thead th {\n",
       "        text-align: right;\n",
       "    }\n",
       "</style>\n",
       "<table border=\"1\" class=\"dataframe\">\n",
       "  <thead>\n",
       "    <tr style=\"text-align: right;\">\n",
       "      <th></th>\n",
       "      <th>Pclass</th>\n",
       "      <th>Sex</th>\n",
       "      <th>SibSp</th>\n",
       "      <th>Parch</th>\n",
       "      <th>Fare</th>\n",
       "      <th>Embarked</th>\n",
       "    </tr>\n",
       "  </thead>\n",
       "  <tbody>\n",
       "    <tr>\n",
       "      <th>0</th>\n",
       "      <td>0.812463</td>\n",
       "      <td>0.723801</td>\n",
       "      <td>-0.470392</td>\n",
       "      <td>-0.479005</td>\n",
       "      <td>-0.476377</td>\n",
       "      <td>-0.730251</td>\n",
       "    </tr>\n",
       "    <tr>\n",
       "      <th>1</th>\n",
       "      <td>0.812463</td>\n",
       "      <td>-1.379654</td>\n",
       "      <td>0.379656</td>\n",
       "      <td>-0.479005</td>\n",
       "      <td>-0.492332</td>\n",
       "      <td>0.563129</td>\n",
       "    </tr>\n",
       "  </tbody>\n",
       "</table>\n",
       "</div>"
      ],
      "text/plain": [
       "     Pclass       Sex     SibSp     Parch      Fare  Embarked\n",
       "0  0.812463  0.723801 -0.470392 -0.479005 -0.476377 -0.730251\n",
       "1  0.812463 -1.379654  0.379656 -0.479005 -0.492332  0.563129"
      ]
     },
     "execution_count": 47,
     "metadata": {},
     "output_type": "execute_result"
    }
   ],
   "source": [
    "normalized_test_final.head(2)"
   ]
  },
  {
   "cell_type": "code",
   "execution_count": 71,
   "id": "66cf132f",
   "metadata": {},
   "outputs": [],
   "source": [
    "#on remet les données qui ne doivent pas etre normalisées : \n",
    "normalized_test_final[var_cat_final] = X_test_final[var_cat_final]"
   ]
  },
  {
   "cell_type": "code",
   "execution_count": 73,
   "id": "29c7f59f",
   "metadata": {},
   "outputs": [
    {
     "data": {
      "text/html": [
       "<div>\n",
       "<style scoped>\n",
       "    .dataframe tbody tr th:only-of-type {\n",
       "        vertical-align: middle;\n",
       "    }\n",
       "\n",
       "    .dataframe tbody tr th {\n",
       "        vertical-align: top;\n",
       "    }\n",
       "\n",
       "    .dataframe thead th {\n",
       "        text-align: right;\n",
       "    }\n",
       "</style>\n",
       "<table border=\"1\" class=\"dataframe\">\n",
       "  <thead>\n",
       "    <tr style=\"text-align: right;\">\n",
       "      <th></th>\n",
       "      <th>Pclass</th>\n",
       "      <th>Sex</th>\n",
       "      <th>SibSp</th>\n",
       "      <th>Parch</th>\n",
       "      <th>Fare</th>\n",
       "      <th>Embarked</th>\n",
       "    </tr>\n",
       "  </thead>\n",
       "  <tbody>\n",
       "    <tr>\n",
       "      <th>0</th>\n",
       "      <td>3</td>\n",
       "      <td>1.0</td>\n",
       "      <td>0</td>\n",
       "      <td>0</td>\n",
       "      <td>-0.476377</td>\n",
       "      <td>1.0</td>\n",
       "    </tr>\n",
       "    <tr>\n",
       "      <th>1</th>\n",
       "      <td>3</td>\n",
       "      <td>0.0</td>\n",
       "      <td>1</td>\n",
       "      <td>0</td>\n",
       "      <td>-0.492332</td>\n",
       "      <td>2.0</td>\n",
       "    </tr>\n",
       "  </tbody>\n",
       "</table>\n",
       "</div>"
      ],
      "text/plain": [
       "   Pclass  Sex  SibSp  Parch      Fare  Embarked\n",
       "0       3  1.0      0      0 -0.476377       1.0\n",
       "1       3  0.0      1      0 -0.492332       2.0"
      ]
     },
     "execution_count": 73,
     "metadata": {},
     "output_type": "execute_result"
    }
   ],
   "source": [
    "normalized_test_final.head(2)"
   ]
  },
  {
   "cell_type": "code",
   "execution_count": 50,
   "id": "c2f88e8b",
   "metadata": {},
   "outputs": [],
   "source": [
    "#4. Prediction "
   ]
  },
  {
   "cell_type": "code",
   "execution_count": 80,
   "id": "17eb9b47",
   "metadata": {},
   "outputs": [
    {
     "data": {
      "text/plain": [
       "GridSearchCV(estimator=KNeighborsClassifier(),\n",
       "             param_grid={'metric': ['euclidean', 'manhattan', 'minkowski'],\n",
       "                         'n_neighbors': range(2, 100)},\n",
       "             scoring=make_scorer(accuracy_score))"
      ]
     },
     "execution_count": 80,
     "metadata": {},
     "output_type": "execute_result"
    }
   ],
   "source": [
    "param_grid={'n_neighbors': range(2,100), \n",
    "            'metric':['euclidean','manhattan', 'minkowski']}\n",
    "#instanciation du modèle : \n",
    "grid=GridSearchCV(estimator=KNeighborsClassifier(),\n",
    "                  param_grid=param_grid,\n",
    "                  scoring=make_scorer(accuracy_score),)\n",
    "grid.fit(X = normalized_train,y = y_train)"
   ]
  },
  {
   "cell_type": "code",
   "execution_count": 86,
   "id": "403e0d22",
   "metadata": {
    "scrolled": true
   },
   "outputs": [
    {
     "data": {
      "text/plain": [
       "KNeighborsClassifier(metric='manhattan', n_neighbors=12)"
      ]
     },
     "execution_count": 86,
     "metadata": {},
     "output_type": "execute_result"
    }
   ],
   "source": [
    "model = grid.best_estimator_\n",
    "model"
   ]
  },
  {
   "cell_type": "code",
   "execution_count": 82,
   "id": "0bf731dc",
   "metadata": {
    "scrolled": true
   },
   "outputs": [],
   "source": [
    "predict_final = model.predict(X = normalized_test_final)"
   ]
  },
  {
   "cell_type": "markdown",
   "id": "3a3e7a39",
   "metadata": {},
   "source": [
    "### Pour poster le predict et connaitre notre score sur kaggle : "
   ]
  },
  {
   "cell_type": "markdown",
   "id": "e616e11f",
   "metadata": {},
   "source": [
    "Il faut regarder le fichier qu'on a aussi decompresser avec le train et test qui s'appelle : **gender_submission.csv**"
   ]
  },
  {
   "cell_type": "code",
   "execution_count": 83,
   "id": "299ca4f2",
   "metadata": {
    "scrolled": true
   },
   "outputs": [
    {
     "data": {
      "text/html": [
       "<div>\n",
       "<style scoped>\n",
       "    .dataframe tbody tr th:only-of-type {\n",
       "        vertical-align: middle;\n",
       "    }\n",
       "\n",
       "    .dataframe tbody tr th {\n",
       "        vertical-align: top;\n",
       "    }\n",
       "\n",
       "    .dataframe thead th {\n",
       "        text-align: right;\n",
       "    }\n",
       "</style>\n",
       "<table border=\"1\" class=\"dataframe\">\n",
       "  <thead>\n",
       "    <tr style=\"text-align: right;\">\n",
       "      <th></th>\n",
       "      <th>PassengerId</th>\n",
       "      <th>Survived</th>\n",
       "    </tr>\n",
       "  </thead>\n",
       "  <tbody>\n",
       "    <tr>\n",
       "      <th>0</th>\n",
       "      <td>892</td>\n",
       "      <td>0</td>\n",
       "    </tr>\n",
       "    <tr>\n",
       "      <th>1</th>\n",
       "      <td>893</td>\n",
       "      <td>1</td>\n",
       "    </tr>\n",
       "    <tr>\n",
       "      <th>2</th>\n",
       "      <td>894</td>\n",
       "      <td>0</td>\n",
       "    </tr>\n",
       "    <tr>\n",
       "      <th>3</th>\n",
       "      <td>895</td>\n",
       "      <td>0</td>\n",
       "    </tr>\n",
       "    <tr>\n",
       "      <th>4</th>\n",
       "      <td>896</td>\n",
       "      <td>1</td>\n",
       "    </tr>\n",
       "  </tbody>\n",
       "</table>\n",
       "</div>"
      ],
      "text/plain": [
       "   PassengerId  Survived\n",
       "0          892         0\n",
       "1          893         1\n",
       "2          894         0\n",
       "3          895         0\n",
       "4          896         1"
      ]
     },
     "execution_count": 83,
     "metadata": {},
     "output_type": "execute_result"
    }
   ],
   "source": [
    "pd.read_csv('gender_submission.csv').head()"
   ]
  },
  {
   "cell_type": "markdown",
   "id": "13e611cc",
   "metadata": {},
   "source": [
    "Il faut donc que notre fichier final ressemble a cela, sauf qu'il faut que passengerId soit en **index** :"
   ]
  },
  {
   "cell_type": "code",
   "execution_count": 84,
   "id": "14fccb64",
   "metadata": {
    "scrolled": false
   },
   "outputs": [
    {
     "data": {
      "text/html": [
       "<div>\n",
       "<style scoped>\n",
       "    .dataframe tbody tr th:only-of-type {\n",
       "        vertical-align: middle;\n",
       "    }\n",
       "\n",
       "    .dataframe tbody tr th {\n",
       "        vertical-align: top;\n",
       "    }\n",
       "\n",
       "    .dataframe thead th {\n",
       "        text-align: right;\n",
       "    }\n",
       "</style>\n",
       "<table border=\"1\" class=\"dataframe\">\n",
       "  <thead>\n",
       "    <tr style=\"text-align: right;\">\n",
       "      <th></th>\n",
       "      <th>Survived</th>\n",
       "    </tr>\n",
       "    <tr>\n",
       "      <th>PassengerId</th>\n",
       "      <th></th>\n",
       "    </tr>\n",
       "  </thead>\n",
       "  <tbody>\n",
       "    <tr>\n",
       "      <th>892</th>\n",
       "      <td>0</td>\n",
       "    </tr>\n",
       "    <tr>\n",
       "      <th>893</th>\n",
       "      <td>0</td>\n",
       "    </tr>\n",
       "    <tr>\n",
       "      <th>894</th>\n",
       "      <td>0</td>\n",
       "    </tr>\n",
       "    <tr>\n",
       "      <th>895</th>\n",
       "      <td>0</td>\n",
       "    </tr>\n",
       "    <tr>\n",
       "      <th>896</th>\n",
       "      <td>0</td>\n",
       "    </tr>\n",
       "  </tbody>\n",
       "</table>\n",
       "</div>"
      ],
      "text/plain": [
       "             Survived\n",
       "PassengerId          \n",
       "892                 0\n",
       "893                 0\n",
       "894                 0\n",
       "895                 0\n",
       "896                 0"
      ]
     },
     "execution_count": 84,
     "metadata": {},
     "output_type": "execute_result"
    }
   ],
   "source": [
    "Data_final_ = pd.DataFrame({\"Survived\": predict_final}, index=titanic_test.PassengerId)\n",
    "Data_final_.head()"
   ]
  },
  {
   "cell_type": "code",
   "execution_count": 85,
   "id": "8e6ae6b2",
   "metadata": {},
   "outputs": [],
   "source": [
    "#export en csv : \n",
    "Data_final_.to_csv(path_or_buf='Export_final_titanic_KNN.csv', \n",
    "                   header=True, sep= ',',)"
   ]
  },
  {
   "cell_type": "markdown",
   "id": "70648a37",
   "metadata": {},
   "source": [
    "### Sur kaggle : \n",
    "https://www.kaggle.com/competitions/titanic/overview/evaluation\n",
    "\n",
    "on clique sur le \"submit predictions\" et on soumet le csv qu'on a creer ci-dessus"
   ]
  },
  {
   "cell_type": "markdown",
   "id": "898d0c7c",
   "metadata": {},
   "source": [
    "Scoring kaggle : **0.75837**"
   ]
  }
 ],
 "metadata": {
  "kernelspec": {
   "display_name": "Python 3 (ipykernel)",
   "language": "python",
   "name": "python3"
  },
  "language_info": {
   "codemirror_mode": {
    "name": "ipython",
    "version": 3
   },
   "file_extension": ".py",
   "mimetype": "text/x-python",
   "name": "python",
   "nbconvert_exporter": "python",
   "pygments_lexer": "ipython3",
   "version": "3.8.13"
  }
 },
 "nbformat": 4,
 "nbformat_minor": 5
}
