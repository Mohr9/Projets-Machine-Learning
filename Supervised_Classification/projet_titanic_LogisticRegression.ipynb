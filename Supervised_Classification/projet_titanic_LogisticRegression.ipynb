{
 "cells": [
  {
   "cell_type": "markdown",
   "id": "7650f7a9",
   "metadata": {},
   "source": [
    "# Regression logistique\n",
    "\n",
    "La Regression logistique est un algorithme qui permet de prédire une target qui est de type **classification** (opposé a la regression linéaire pour les problemes de type de regression.\n",
    "\n",
    "Elle est surtout utilisé lorsqu'on a des problemes de **classification binaires**.\n",
    "\n",
    "Comme dans le probleme du titanic ou la target est binaire : mort ou vivant (0 ou 1)"
   ]
  },
  {
   "cell_type": "code",
   "execution_count": 116,
   "id": "d4d64d64",
   "metadata": {},
   "outputs": [],
   "source": [
    "#import package\n",
    "import pandas as pd\n",
    "import numpy as np\n",
    "\n",
    "#import package visualisation\n",
    "import seaborn as sns\n",
    "import matplotlib.pyplot as plt\n",
    "\n",
    "#import outils statistiques  :\n",
    "from scipy.stats import chi2_contingency\n",
    "\n",
    "#Import des outils de preprocessing : \n",
    "from sklearn.preprocessing import OrdinalEncoder\n",
    "\n",
    "#import package train test set :\n",
    "from sklearn.model_selection import train_test_split, KFold\n",
    "\n",
    "#import package model\n",
    "from sklearn.neighbors import KNeighborsClassifier\n",
    "from sklearn.linear_model import LogisticRegression\n",
    "\n",
    "#import package mesure precision model :\n",
    "from sklearn.metrics import accuracy_score\n",
    "\n",
    "#import pour grid search : \n",
    "\n",
    "from sklearn.model_selection import GridSearchCV\n",
    "from sklearn.metrics import make_scorer #permet de trouver le modele faisant le meilleur score\n",
    "from sklearn.metrics import accuracy_score\n",
    "\n",
    "import warnings\n",
    "warnings.filterwarnings('ignore')"
   ]
  },
  {
   "cell_type": "code",
   "execution_count": 117,
   "id": "c99b2e9f",
   "metadata": {},
   "outputs": [],
   "source": [
    "titanic = pd.read_csv('D:/Formation_Data_Scientist/01_Cours/007_machine_learning/002_KNN_Classifier/train.csv')\n",
    "df = titanic.copy()"
   ]
  },
  {
   "cell_type": "markdown",
   "id": "dae40058",
   "metadata": {},
   "source": [
    "# Preprocessing "
   ]
  },
  {
   "cell_type": "markdown",
   "id": "815a5ca9",
   "metadata": {},
   "source": [
    "Il faut refaire les memes étapes de preprocessing que ce qu'on a fait a notre test set precédent : "
   ]
  },
  {
   "cell_type": "markdown",
   "id": "8606d1d7",
   "metadata": {},
   "source": [
    "#### Imputing : "
   ]
  },
  {
   "cell_type": "code",
   "execution_count": 118,
   "id": "c072b6ba",
   "metadata": {},
   "outputs": [],
   "source": [
    "df.drop(\"Cabin\",axis = 1, inplace = True)"
   ]
  },
  {
   "cell_type": "code",
   "execution_count": 119,
   "id": "42c3eceb",
   "metadata": {},
   "outputs": [],
   "source": [
    "moy_age = df.Age.mean()\n",
    "df.Age = df.Age.fillna(moy_age)"
   ]
  },
  {
   "cell_type": "code",
   "execution_count": 120,
   "id": "bc773f0e",
   "metadata": {},
   "outputs": [],
   "source": [
    "mode_embarked = df.Embarked.value_counts().idxmax()\n",
    "df.Embarked = df.Embarked.fillna(mode_embarked)"
   ]
  },
  {
   "cell_type": "code",
   "execution_count": 121,
   "id": "4d637564",
   "metadata": {},
   "outputs": [],
   "source": [
    "target = df.Survived"
   ]
  },
  {
   "cell_type": "code",
   "execution_count": 122,
   "id": "714f5949",
   "metadata": {},
   "outputs": [],
   "source": [
    "df = df.drop(['Survived'], axis = 1)"
   ]
  },
  {
   "cell_type": "code",
   "execution_count": 123,
   "id": "4b367b23",
   "metadata": {},
   "outputs": [],
   "source": [
    "var_cat = ['PassengerId','Pclass','SibSp','Parch','Name','Sex','Ticket','Embarked']"
   ]
  },
  {
   "cell_type": "code",
   "execution_count": 124,
   "id": "249d5415",
   "metadata": {},
   "outputs": [],
   "source": [
    "var_cont = ['Age','Fare']"
   ]
  },
  {
   "cell_type": "markdown",
   "id": "726a321d",
   "metadata": {},
   "source": [
    "#### Selection de variable "
   ]
  },
  {
   "cell_type": "code",
   "execution_count": 125,
   "id": "152660a8",
   "metadata": {},
   "outputs": [
    {
     "data": {
      "text/plain": [
       "[('Sex', 1.1973570627755645e-58),\n",
       " ('Pclass', 4.549251711298793e-23),\n",
       " ('SibSp', 1.5585810465902147e-06),\n",
       " ('Embarked', 2.3008626481449577e-06),\n",
       " ('Parch', 9.703526421039997e-05),\n",
       " ('Ticket', 0.01152729601163775),\n",
       " ('PassengerId', 0.484248151973633),\n",
       " ('Name', 0.484248151973633)]"
      ]
     },
     "execution_count": 125,
     "metadata": {},
     "output_type": "execute_result"
    }
   ],
   "source": [
    "chi2_p = {}\n",
    "for i in var_cat:\n",
    "    pval = chi2_contingency(pd.crosstab(df[i], target))[1] \n",
    "    chi2_p[i] = pval\n",
    "sorted(chi2_p.items(), key=lambda x: x[1], reverse=False) #Trie les p_value de facon croissante"
   ]
  },
  {
   "cell_type": "code",
   "execution_count": 126,
   "id": "03bc471b",
   "metadata": {},
   "outputs": [],
   "source": [
    "var_cat_final = []\n",
    "var_cat_supprime = []\n",
    "\n",
    "for i in chi2_p:\n",
    "    if chi2_p[i]<0.005:\n",
    "        var_cat_final.append(i)\n",
    "    else:\n",
    "        var_cat_supprime.append(i)"
   ]
  },
  {
   "cell_type": "code",
   "execution_count": 127,
   "id": "1602fb05",
   "metadata": {},
   "outputs": [],
   "source": [
    "df = df.drop(var_cat_supprime, axis = 1)"
   ]
  },
  {
   "cell_type": "code",
   "execution_count": 128,
   "id": "2b10057a",
   "metadata": {},
   "outputs": [],
   "source": [
    "df.drop('Age', axis = 1, inplace = True)"
   ]
  },
  {
   "cell_type": "markdown",
   "id": "f1eebca5",
   "metadata": {},
   "source": [
    "#### Encodage : "
   ]
  },
  {
   "cell_type": "code",
   "execution_count": 129,
   "id": "2c6f4159",
   "metadata": {},
   "outputs": [],
   "source": [
    "enc = OrdinalEncoder()\n",
    "df[['Sex','Embarked']] = enc.fit_transform(df[['Sex','Embarked']])"
   ]
  },
  {
   "cell_type": "code",
   "execution_count": 131,
   "id": "46b1597c",
   "metadata": {},
   "outputs": [
    {
     "data": {
      "text/html": [
       "<div>\n",
       "<style scoped>\n",
       "    .dataframe tbody tr th:only-of-type {\n",
       "        vertical-align: middle;\n",
       "    }\n",
       "\n",
       "    .dataframe tbody tr th {\n",
       "        vertical-align: top;\n",
       "    }\n",
       "\n",
       "    .dataframe thead th {\n",
       "        text-align: right;\n",
       "    }\n",
       "</style>\n",
       "<table border=\"1\" class=\"dataframe\">\n",
       "  <thead>\n",
       "    <tr style=\"text-align: right;\">\n",
       "      <th></th>\n",
       "      <th>Pclass</th>\n",
       "      <th>Sex</th>\n",
       "      <th>SibSp</th>\n",
       "      <th>Parch</th>\n",
       "      <th>Fare</th>\n",
       "      <th>Embarked</th>\n",
       "    </tr>\n",
       "  </thead>\n",
       "  <tbody>\n",
       "    <tr>\n",
       "      <th>0</th>\n",
       "      <td>3</td>\n",
       "      <td>1.0</td>\n",
       "      <td>1</td>\n",
       "      <td>0</td>\n",
       "      <td>7.25</td>\n",
       "      <td>2.0</td>\n",
       "    </tr>\n",
       "  </tbody>\n",
       "</table>\n",
       "</div>"
      ],
      "text/plain": [
       "   Pclass  Sex  SibSp  Parch  Fare  Embarked\n",
       "0       3  1.0      1      0  7.25       2.0"
      ]
     },
     "execution_count": 131,
     "metadata": {},
     "output_type": "execute_result"
    }
   ],
   "source": [
    "df.head(1)"
   ]
  },
  {
   "cell_type": "markdown",
   "id": "178a702f",
   "metadata": {},
   "source": [
    "#### train et test split :"
   ]
  },
  {
   "cell_type": "code",
   "execution_count": 132,
   "id": "7853daac",
   "metadata": {},
   "outputs": [],
   "source": [
    "X_train, X_test, y_train, y_test  = train_test_split(df, target, test_size=0.2, random_state=42)"
   ]
  },
  {
   "cell_type": "markdown",
   "id": "d7d5c319",
   "metadata": {},
   "source": [
    "#### Normalisation :"
   ]
  },
  {
   "cell_type": "code",
   "execution_count": 133,
   "id": "43b2ff1d",
   "metadata": {},
   "outputs": [],
   "source": [
    "normalized_train = (X_train-X_train.mean())/X_train.std()\n",
    "normalized_test = (X_test-X_train.mean())/X_train.std()"
   ]
  },
  {
   "cell_type": "code",
   "execution_count": 134,
   "id": "094c2195",
   "metadata": {
    "scrolled": false
   },
   "outputs": [
    {
     "data": {
      "text/html": [
       "<div>\n",
       "<style scoped>\n",
       "    .dataframe tbody tr th:only-of-type {\n",
       "        vertical-align: middle;\n",
       "    }\n",
       "\n",
       "    .dataframe tbody tr th {\n",
       "        vertical-align: top;\n",
       "    }\n",
       "\n",
       "    .dataframe thead th {\n",
       "        text-align: right;\n",
       "    }\n",
       "</style>\n",
       "<table border=\"1\" class=\"dataframe\">\n",
       "  <thead>\n",
       "    <tr style=\"text-align: right;\">\n",
       "      <th></th>\n",
       "      <th>Pclass</th>\n",
       "      <th>Sex</th>\n",
       "      <th>SibSp</th>\n",
       "      <th>Parch</th>\n",
       "      <th>Fare</th>\n",
       "      <th>Embarked</th>\n",
       "    </tr>\n",
       "  </thead>\n",
       "  <tbody>\n",
       "    <tr>\n",
       "      <th>331</th>\n",
       "      <td>-1.613002</td>\n",
       "      <td>0.723801</td>\n",
       "      <td>-0.470392</td>\n",
       "      <td>-0.479005</td>\n",
       "      <td>-0.078628</td>\n",
       "      <td>0.563129</td>\n",
       "    </tr>\n",
       "  </tbody>\n",
       "</table>\n",
       "</div>"
      ],
      "text/plain": [
       "       Pclass       Sex     SibSp     Parch      Fare  Embarked\n",
       "331 -1.613002  0.723801 -0.470392 -0.479005 -0.078628  0.563129"
      ]
     },
     "execution_count": 134,
     "metadata": {},
     "output_type": "execute_result"
    }
   ],
   "source": [
    "normalized_train.head(1)"
   ]
  },
  {
   "cell_type": "code",
   "execution_count": null,
   "id": "34c6dfca",
   "metadata": {},
   "outputs": [],
   "source": [
    "#On remet les valeurs qui n'auraient pas du être normalisées (cad toutes exceptees Fare): "
   ]
  },
  {
   "cell_type": "code",
   "execution_count": 138,
   "id": "515a2a34",
   "metadata": {},
   "outputs": [],
   "source": [
    "normalized_train[var_cat_final] = df[var_cat_final]\n",
    "normalized_test[var_cat_final] = df[var_cat_final]"
   ]
  },
  {
   "cell_type": "markdown",
   "id": "86804c43",
   "metadata": {},
   "source": [
    "### Création du modèle avec LogisticRegression "
   ]
  },
  {
   "cell_type": "code",
   "execution_count": 139,
   "id": "23227638",
   "metadata": {},
   "outputs": [],
   "source": [
    "model = LogisticRegression()\n",
    "model.fit(normalized_train, y_train)\n",
    "y_pred = model.predict(normalized_test)"
   ]
  },
  {
   "cell_type": "code",
   "execution_count": 141,
   "id": "8fbcf058",
   "metadata": {
    "scrolled": false
   },
   "outputs": [
    {
     "data": {
      "text/plain": [
       "0.7653631284916201"
      ]
     },
     "execution_count": 141,
     "metadata": {},
     "output_type": "execute_result"
    }
   ],
   "source": [
    "#sans gridsearch : \n",
    "accuracy_score(y_test,y_pred)"
   ]
  },
  {
   "cell_type": "markdown",
   "id": "c52bacce",
   "metadata": {},
   "source": [
    "Le parametre le plus important c'est le parametre **C** (taux d'apprentissage) qui permet de faire un pas sur la courbe (cf GradientDescent) afin de trouver la valeur **minimale** (qui minimise l'erreur entre la prédiction et la valeur réelle)"
   ]
  },
  {
   "cell_type": "code",
   "execution_count": 180,
   "id": "5c1b3d4b",
   "metadata": {},
   "outputs": [],
   "source": [
    "param_grid = {'penalty':['l1','l2'],\n",
    "    'C':np.linspace(0.01,1,200), \n",
    "             }"
   ]
  },
  {
   "cell_type": "code",
   "execution_count": 181,
   "id": "c47a13fc",
   "metadata": {},
   "outputs": [],
   "source": [
    "grid = GridSearchCV(estimator=LogisticRegression(), param_grid=param_grid,\n",
    "                   scoring=make_scorer(accuracy_score))"
   ]
  },
  {
   "cell_type": "code",
   "execution_count": 182,
   "id": "66bfe6f5",
   "metadata": {
    "scrolled": true
   },
   "outputs": [
    {
     "data": {
      "text/plain": [
       "GridSearchCV(estimator=LogisticRegression(),\n",
       "             param_grid={'C': array([0.01      , 0.01497487, 0.01994975, 0.02492462, 0.0298995 ,\n",
       "       0.03487437, 0.03984925, 0.04482412, 0.04979899, 0.05477387,\n",
       "       0.05974874, 0.06472362, 0.06969849, 0.07467337, 0.07964824,\n",
       "       0.08462312, 0.08959799, 0.09457286, 0.09954774, 0.10452261,\n",
       "       0.10949749, 0.11447236, 0.11944724, 0.12442211, 0.12939698,\n",
       "       0.13437186, 0.13...\n",
       "       0.85572864, 0.86070352, 0.86567839, 0.87065327, 0.87562814,\n",
       "       0.88060302, 0.88557789, 0.89055276, 0.89552764, 0.90050251,\n",
       "       0.90547739, 0.91045226, 0.91542714, 0.92040201, 0.92537688,\n",
       "       0.93035176, 0.93532663, 0.94030151, 0.94527638, 0.95025126,\n",
       "       0.95522613, 0.96020101, 0.96517588, 0.97015075, 0.97512563,\n",
       "       0.9801005 , 0.98507538, 0.99005025, 0.99502513, 1.        ]),\n",
       "                         'penalty': ['l1', 'l2']},\n",
       "             scoring=make_scorer(accuracy_score))"
      ]
     },
     "execution_count": 182,
     "metadata": {},
     "output_type": "execute_result"
    }
   ],
   "source": [
    "grid.fit(normalized_train, y_train)"
   ]
  },
  {
   "cell_type": "code",
   "execution_count": 183,
   "id": "3dfdc3bb",
   "metadata": {},
   "outputs": [],
   "source": [
    "model = grid.best_estimator_"
   ]
  },
  {
   "cell_type": "code",
   "execution_count": 184,
   "id": "72a0b93e",
   "metadata": {},
   "outputs": [],
   "source": [
    "y_pred = grid.predict(normalized_test)"
   ]
  },
  {
   "cell_type": "code",
   "execution_count": 194,
   "id": "d688d77c",
   "metadata": {
    "scrolled": true
   },
   "outputs": [
    {
     "data": {
      "text/plain": [
       "76.0"
      ]
     },
     "execution_count": 194,
     "metadata": {},
     "output_type": "execute_result"
    }
   ],
   "source": [
    "round(accuracy_score(y_test,y_pred)*100,1)"
   ]
  },
  {
   "cell_type": "markdown",
   "id": "9f7a2ff7",
   "metadata": {},
   "source": [
    "On obtient 76% qui est un score un peu moins élevé qu'avec notre modèle KNeighborsClassifier (cf dans le dossier 002_KNN_Classifier)"
   ]
  },
  {
   "cell_type": "markdown",
   "id": "09f6c372",
   "metadata": {},
   "source": [
    "## Prédiction sur fichier test.csv"
   ]
  },
  {
   "cell_type": "code",
   "execution_count": 148,
   "id": "cc0459c1",
   "metadata": {},
   "outputs": [],
   "source": [
    "titanic_test = pd.read_csv('D:/Formation_Data_Scientist/01_Cours/007_machine_learning/002_KNN_Classifier/test.csv')"
   ]
  },
  {
   "cell_type": "code",
   "execution_count": 149,
   "id": "5ac5e2a8",
   "metadata": {},
   "outputs": [],
   "source": [
    "X_test_final = titanic_test[X_train.columns]"
   ]
  },
  {
   "cell_type": "code",
   "execution_count": 150,
   "id": "506b36f7",
   "metadata": {
    "scrolled": true
   },
   "outputs": [
    {
     "data": {
      "text/plain": [
       "Pclass      0\n",
       "Sex         0\n",
       "SibSp       0\n",
       "Parch       0\n",
       "Fare        1\n",
       "Embarked    0\n",
       "dtype: int64"
      ]
     },
     "execution_count": 150,
     "metadata": {},
     "output_type": "execute_result"
    }
   ],
   "source": [
    "X_test_final.isnull().sum()"
   ]
  },
  {
   "cell_type": "code",
   "execution_count": 151,
   "id": "a9dce42f",
   "metadata": {},
   "outputs": [
    {
     "data": {
      "text/plain": [
       "dtype('float64')"
      ]
     },
     "execution_count": 151,
     "metadata": {},
     "output_type": "execute_result"
    }
   ],
   "source": [
    "X_test_final.Fare.dtypes"
   ]
  },
  {
   "cell_type": "code",
   "execution_count": 152,
   "id": "9fcee203",
   "metadata": {
    "scrolled": true
   },
   "outputs": [
    {
     "data": {
      "image/png": "[encoded data removed]",
      "text/plain": [
       "<Figure size 432x288 with 1 Axes>"
      ]
     },
     "metadata": {
      "needs_background": "light"
     },
     "output_type": "display_data"
    }
   ],
   "source": [
    "sns.boxplot(data = X_test_final.Fare)\n",
    "plt.show()"
   ]
  },
  {
   "cell_type": "markdown",
   "id": "c79c1e81",
   "metadata": {},
   "source": [
    "**Observations :**: \n",
    "presence de beaucoup d'outliers donc on remplace par la **mediane**"
   ]
  },
  {
   "cell_type": "code",
   "execution_count": 153,
   "id": "37bfda04",
   "metadata": {},
   "outputs": [],
   "source": [
    "#1. imputing\n",
    "X_test_final.Fare.fillna(X_test_final.Fare.median(), inplace=True)"
   ]
  },
  {
   "cell_type": "code",
   "execution_count": 154,
   "id": "033df598",
   "metadata": {},
   "outputs": [],
   "source": [
    "#2. Encodage \n",
    "X_test_final[['Sex','Embarked']] = enc.fit_transform(X_test_final[['Sex','Embarked']])"
   ]
  },
  {
   "cell_type": "code",
   "execution_count": 155,
   "id": "a90bcbd9",
   "metadata": {},
   "outputs": [],
   "source": [
    "#3. Normalisation : \n",
    "normalized_test_final = (X_test_final-X_train.mean())/X_train.std()"
   ]
  },
  {
   "cell_type": "code",
   "execution_count": 195,
   "id": "2cba6b0a",
   "metadata": {},
   "outputs": [],
   "source": [
    "#on remet les valeurs qui n'auraient pas du etre normalisée (cad toutes sauf Fare): \n",
    "normalized_test_final[var_cat_final] = X_test_final[var_cat_final]"
   ]
  },
  {
   "cell_type": "code",
   "execution_count": 178,
   "id": "3bcd6e96",
   "metadata": {},
   "outputs": [],
   "source": [
    "#4. Prediction "
   ]
  },
  {
   "cell_type": "code",
   "execution_count": 196,
   "id": "f38d1aae",
   "metadata": {},
   "outputs": [],
   "source": [
    "param_grid = {'C':np.linspace(0.1,1,100), }             "
   ]
  },
  {
   "cell_type": "code",
   "execution_count": 197,
   "id": "d8bd3b2a",
   "metadata": {},
   "outputs": [],
   "source": [
    "grid = GridSearchCV(estimator=LogisticRegression(), param_grid=param_grid,\n",
    "                   scoring=make_scorer(accuracy_score))"
   ]
  },
  {
   "cell_type": "code",
   "execution_count": 198,
   "id": "9ffcb446",
   "metadata": {
    "scrolled": true
   },
   "outputs": [
    {
     "data": {
      "text/plain": [
       "GridSearchCV(estimator=LogisticRegression(),\n",
       "             param_grid={'C': array([0.1       , 0.10909091, 0.11818182, 0.12727273, 0.13636364,\n",
       "       0.14545455, 0.15454545, 0.16363636, 0.17272727, 0.18181818,\n",
       "       0.19090909, 0.2       , 0.20909091, 0.21818182, 0.22727273,\n",
       "       0.23636364, 0.24545455, 0.25454545, 0.26363636, 0.27272727,\n",
       "       0.28181818, 0.29090909, 0.3       , 0.30909091, 0.31818182,\n",
       "       0.32727273, 0.33636364, 0.34545...\n",
       "       0.69090909, 0.7       , 0.70909091, 0.71818182, 0.72727273,\n",
       "       0.73636364, 0.74545455, 0.75454545, 0.76363636, 0.77272727,\n",
       "       0.78181818, 0.79090909, 0.8       , 0.80909091, 0.81818182,\n",
       "       0.82727273, 0.83636364, 0.84545455, 0.85454545, 0.86363636,\n",
       "       0.87272727, 0.88181818, 0.89090909, 0.9       , 0.90909091,\n",
       "       0.91818182, 0.92727273, 0.93636364, 0.94545455, 0.95454545,\n",
       "       0.96363636, 0.97272727, 0.98181818, 0.99090909, 1.        ])},\n",
       "             scoring=make_scorer(accuracy_score))"
      ]
     },
     "execution_count": 198,
     "metadata": {},
     "output_type": "execute_result"
    }
   ],
   "source": [
    "grid.fit(X = normalized_train, y= y_train)"
   ]
  },
  {
   "cell_type": "code",
   "execution_count": 199,
   "id": "51f417c3",
   "metadata": {},
   "outputs": [],
   "source": [
    "model = grid.best_estimator_"
   ]
  },
  {
   "cell_type": "code",
   "execution_count": 200,
   "id": "5aa9f235",
   "metadata": {},
   "outputs": [],
   "source": [
    "predict_final = model.predict(normalized_test_final)"
   ]
  },
  {
   "cell_type": "code",
   "execution_count": 201,
   "id": "dbf472f1",
   "metadata": {},
   "outputs": [
    {
     "data": {
      "text/html": [
       "<div>\n",
       "<style scoped>\n",
       "    .dataframe tbody tr th:only-of-type {\n",
       "        vertical-align: middle;\n",
       "    }\n",
       "\n",
       "    .dataframe tbody tr th {\n",
       "        vertical-align: top;\n",
       "    }\n",
       "\n",
       "    .dataframe thead th {\n",
       "        text-align: right;\n",
       "    }\n",
       "</style>\n",
       "<table border=\"1\" class=\"dataframe\">\n",
       "  <thead>\n",
       "    <tr style=\"text-align: right;\">\n",
       "      <th></th>\n",
       "      <th>Survived</th>\n",
       "    </tr>\n",
       "    <tr>\n",
       "      <th>PassengerId</th>\n",
       "      <th></th>\n",
       "    </tr>\n",
       "  </thead>\n",
       "  <tbody>\n",
       "    <tr>\n",
       "      <th>892</th>\n",
       "      <td>0</td>\n",
       "    </tr>\n",
       "    <tr>\n",
       "      <th>893</th>\n",
       "      <td>1</td>\n",
       "    </tr>\n",
       "    <tr>\n",
       "      <th>894</th>\n",
       "      <td>0</td>\n",
       "    </tr>\n",
       "    <tr>\n",
       "      <th>895</th>\n",
       "      <td>0</td>\n",
       "    </tr>\n",
       "    <tr>\n",
       "      <th>896</th>\n",
       "      <td>1</td>\n",
       "    </tr>\n",
       "  </tbody>\n",
       "</table>\n",
       "</div>"
      ],
      "text/plain": [
       "             Survived\n",
       "PassengerId          \n",
       "892                 0\n",
       "893                 1\n",
       "894                 0\n",
       "895                 0\n",
       "896                 1"
      ]
     },
     "execution_count": 201,
     "metadata": {},
     "output_type": "execute_result"
    }
   ],
   "source": [
    "Data_final_ = pd.DataFrame({\"Survived\": predict_final}, index=titanic_test.PassengerId)\n",
    "Data_final_.head()"
   ]
  },
  {
   "cell_type": "code",
   "execution_count": 202,
   "id": "3d154859",
   "metadata": {},
   "outputs": [],
   "source": [
    "#export en csv : \n",
    "Data_final_.to_csv(path_or_buf='Export_final_titanic_LogisticRegression.csv', \n",
    "                   header=True, sep= ',',)"
   ]
  },
  {
   "cell_type": "markdown",
   "id": "6b979e37",
   "metadata": {},
   "source": [
    "Scoring  sur kaggle : **0.76076**"
   ]
  }
 ],
 "metadata": {
  "kernelspec": {
   "display_name": "Python 3 (ipykernel)",
   "language": "python",
   "name": "python3"
  },
  "language_info": {
   "codemirror_mode": {
    "name": "ipython",
    "version": 3
   },
   "file_extension": ".py",
   "mimetype": "text/x-python",
   "name": "python",
   "nbconvert_exporter": "python",
   "pygments_lexer": "ipython3",
   "version": "3.8.13"
  }
 },
 "nbformat": 4,
 "nbformat_minor": 5
}
